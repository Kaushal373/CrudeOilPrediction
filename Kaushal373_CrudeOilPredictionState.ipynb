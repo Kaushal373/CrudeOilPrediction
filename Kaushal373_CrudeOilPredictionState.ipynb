{
 "cells": [
  {
   "cell_type": "markdown",
   "metadata": {},
   "source": [
    "# Agip Oil Company Limited (AOCL)\n",
    "\n",
    "### Company Introduction: \n",
    "Your client for this project is a Oil company.\n",
    "\n",
    "They are one of the largest Oil Company. By 2017 they had daily production of 25.451 million BOE(barrels of oil equivalent).\n",
    "In 2017, this was approximately 13% of world production, which is less than several of the largest state-owned petroleum companies.\n",
    "They want to increase their production in order to compete with larger oil companies.\n",
    "They want to automate the process of keeping track of the state and trend of production using previous Crude Oil Data.\n",
    "Their research and development teams are trying to understand properties of the previous years Crude Oil data so that they can use it to increase their production.\n",
    "\n",
    "Current Scenario\n",
    "Determining state of production as growth or decay, based upon historical crude oil data.\n",
    "The traditional crude oil production state prediction methods are based on statistical analysis, extracting effective information from historical data and making reasonable judgements for classification.\n",
    "Statistics based models use a sample of data to perform classification, so these can not provide accurate results.\n",
    "However, designing a computer program to do this turns out to be a bit trickier."
   ]
  },
  {
   "cell_type": "markdown",
   "metadata": {},
   "source": [
    "## Problem Statement : \n",
    "\n",
    "The current process suffers from the following problems:\n",
    "\n",
    "The current process is a manual classification of production state using statistical methods.\n",
    "This is very tedious and time-consuming as it needs to be repeated for every new customer.\n",
    "\n",
    "The company has hired you as a data science consultant.\n",
    "\n",
    "They want to automate the process of predicting the production state using properties of the crude oil trend rather than doing this manual work.\n",
    "\n",
    "Your Role:\n",
    "You are given previous year Crude Oil Production data.\n",
    "Your task is to build a classification model using the dataset.\n",
    "Because there was no machine learning model for this problem in the company, you don’t have a quantifiable win condition. You need to build the best possible model.\n"
   ]
  },
  {
   "cell_type": "markdown",
   "metadata": {},
   "source": [
    "# Dataset Feature Description: \n",
    "\n",
    "TThe following acoustic properties of each voice are measured and included in the dataset:\n",
    "\n",
    "<table>\t<th>\tColumn Name\t</th>\t<th>\tDescription\t</th>\t\n",
    "<tr>\t<td>\tId\t</td>\t<td>\tUnique Id\t</td>\t</tr>\n",
    "<tr>\t<td>\tmonth\t</td>\t<td>\tSelected Months\t</td>\t</tr>\n",
    "<tr>\t<td>\tCountry\t</td>\t<td>\tCountries(76 in Total)\t</td>\t</tr>\n",
    "<tr>\t<td>\t1_diffClosing stocks(kmt)\t</td>\t<td>\tClosing Stocks for one Month\t</td>\t</tr>\n",
    "<tr>\t<td>\t1_diffExports(kmt)\t</td>\t<td>\tExports for one Month\t</td>\t</tr>\n",
    "<tr>\t<td>\t1_diffImports(kmt)\t</td>\t<td>\tImport for one Month\t</td>\t</tr>\n",
    "<tr>\t<td>\t1_diffRefinery intake\t</td>\t<td>\tRefinery Intake for one Month\t</td>\t</tr>\n",
    "<tr>\t<td>\t1_diffWTI\t</td>\t<td>\tWest texas Intermediate Price for one Month\t</td>\t</tr>\n",
    "<tr>\t<td>\t1_diffSumClosing stocks(kmt)\t</td>\t<td>\tSum Closing Stocks for one Month\t</td>\t</tr>\n",
    "<tr>\t<td>\t1_diffSumExports(kmt)\t</td>\t<td>\tSum Exports for one Month\t</td>\t</tr>\n",
    "<tr>\t<td>\t1_diffSumImports(kmt)\t</td>\t<td>\tSum Import for one Month\t</td>\t</tr>\n",
    "<tr>\t<td>\t1_diffSumProduction(kmt)\t</td>\t<td>\tSum Production one Month\t</td>\t</tr>\n",
    "<tr>\t<td>\t1_diffSumRefinery intake(kmt)\t</td>\t<td>\tSum Refinery Intake\t</td>\t</tr>\n",
    "<tr>\t<td>\tTarget\t</td>\t<td>\tThe label for the crude oil data (whether production will grow or not)\t</td>\t</tr>\n",
    "</table>\t\t\t\t\t\t\t\n"
   ]
  },
  {
   "cell_type": "code",
   "execution_count": 44,
   "metadata": {},
   "outputs": [],
   "source": [
    "import pandas as pd\n",
    "import numpy as np\n",
    "import matplotlib.pyplot as plt\n",
    "%matplotlib inline\n",
    "import seaborn as sns\n",
    "\n",
    "import warnings \n",
    "warnings.filterwarnings('ignore')\n",
    "from pandas_profiling import profile_report\n",
    "\n",
    "from sklearn.metrics import confusion_matrix,f1_score,recall_score,precision_score,accuracy_score\n",
    "from sklearn.feature_selection import SelectFromModel\n",
    "from sklearn.model_selection import cross_val_score,GridSearchCV,train_test_split\n",
    "from sklearn.linear_model import LogisticRegression\n",
    "from sklearn.ensemble import AdaBoostClassifier,GradientBoostingClassifier,RandomForestClassifier,VotingClassifier\n",
    "from sklearn.preprocessing import StandardScaler\n",
    "from sklearn.tree import DecisionTreeClassifier\n"
   ]
  },
  {
   "cell_type": "code",
   "execution_count": 31,
   "metadata": {},
   "outputs": [
    {
     "data": {
      "text/html": [
       "<div>\n",
       "<style scoped>\n",
       "    .dataframe tbody tr th:only-of-type {\n",
       "        vertical-align: middle;\n",
       "    }\n",
       "\n",
       "    .dataframe tbody tr th {\n",
       "        vertical-align: top;\n",
       "    }\n",
       "\n",
       "    .dataframe thead th {\n",
       "        text-align: right;\n",
       "    }\n",
       "</style>\n",
       "<table border=\"1\" class=\"dataframe\">\n",
       "  <thead>\n",
       "    <tr style=\"text-align: right;\">\n",
       "      <th></th>\n",
       "      <th>ID</th>\n",
       "      <th>month</th>\n",
       "      <th>country</th>\n",
       "      <th>1_diffClosing stocks(kmt)</th>\n",
       "      <th>1_diffExports(kmt)</th>\n",
       "      <th>1_diffImports(kmt)</th>\n",
       "      <th>1_diffRefinery intake(kmt)</th>\n",
       "      <th>1_diffWTI</th>\n",
       "      <th>1_diffSumClosing stocks(kmt)</th>\n",
       "      <th>1_diffSumExports(kmt)</th>\n",
       "      <th>1_diffSumImports(kmt)</th>\n",
       "      <th>1_diffSumProduction(kmt)</th>\n",
       "      <th>1_diffSumRefinery intake(kmt)</th>\n",
       "      <th>2_diffClosing stocks(kmt)</th>\n",
       "      <th>2_diffExports(kmt)</th>\n",
       "      <th>2_diffImports(kmt)</th>\n",
       "      <th>2_diffRefinery intake(kmt)</th>\n",
       "      <th>2_diffWTI</th>\n",
       "      <th>2_diffSumClosing stocks(kmt)</th>\n",
       "      <th>2_diffSumExports(kmt)</th>\n",
       "      <th>2_diffSumImports(kmt)</th>\n",
       "      <th>2_diffSumProduction(kmt)</th>\n",
       "      <th>2_diffSumRefinery intake(kmt)</th>\n",
       "      <th>3_diffClosing stocks(kmt)</th>\n",
       "      <th>3_diffExports(kmt)</th>\n",
       "      <th>3_diffImports(kmt)</th>\n",
       "      <th>3_diffRefinery intake(kmt)</th>\n",
       "      <th>3_diffWTI</th>\n",
       "      <th>3_diffSumClosing stocks(kmt)</th>\n",
       "      <th>3_diffSumExports(kmt)</th>\n",
       "      <th>3_diffSumImports(kmt)</th>\n",
       "      <th>3_diffSumProduction(kmt)</th>\n",
       "      <th>3_diffSumRefinery intake(kmt)</th>\n",
       "      <th>4_diffClosing stocks(kmt)</th>\n",
       "      <th>4_diffExports(kmt)</th>\n",
       "      <th>4_diffImports(kmt)</th>\n",
       "      <th>4_diffRefinery intake(kmt)</th>\n",
       "      <th>4_diffWTI</th>\n",
       "      <th>4_diffSumClosing stocks(kmt)</th>\n",
       "      <th>4_diffSumExports(kmt)</th>\n",
       "      <th>4_diffSumImports(kmt)</th>\n",
       "      <th>4_diffSumProduction(kmt)</th>\n",
       "      <th>4_diffSumRefinery intake(kmt)</th>\n",
       "      <th>5_diffClosing stocks(kmt)</th>\n",
       "      <th>5_diffExports(kmt)</th>\n",
       "      <th>5_diffImports(kmt)</th>\n",
       "      <th>5_diffRefinery intake(kmt)</th>\n",
       "      <th>5_diffWTI</th>\n",
       "      <th>5_diffSumClosing stocks(kmt)</th>\n",
       "      <th>5_diffSumExports(kmt)</th>\n",
       "      <th>5_diffSumImports(kmt)</th>\n",
       "      <th>5_diffSumProduction(kmt)</th>\n",
       "      <th>5_diffSumRefinery intake(kmt)</th>\n",
       "      <th>6_diffClosing stocks(kmt)</th>\n",
       "      <th>6_diffExports(kmt)</th>\n",
       "      <th>6_diffImports(kmt)</th>\n",
       "      <th>6_diffRefinery intake(kmt)</th>\n",
       "      <th>6_diffWTI</th>\n",
       "      <th>6_diffSumClosing stocks(kmt)</th>\n",
       "      <th>6_diffSumExports(kmt)</th>\n",
       "      <th>6_diffSumImports(kmt)</th>\n",
       "      <th>6_diffSumProduction(kmt)</th>\n",
       "      <th>6_diffSumRefinery intake(kmt)</th>\n",
       "      <th>7_diffClosing stocks(kmt)</th>\n",
       "      <th>7_diffExports(kmt)</th>\n",
       "      <th>7_diffImports(kmt)</th>\n",
       "      <th>7_diffRefinery intake(kmt)</th>\n",
       "      <th>7_diffWTI</th>\n",
       "      <th>7_diffSumClosing stocks(kmt)</th>\n",
       "      <th>7_diffSumExports(kmt)</th>\n",
       "      <th>7_diffSumImports(kmt)</th>\n",
       "      <th>7_diffSumProduction(kmt)</th>\n",
       "      <th>7_diffSumRefinery intake(kmt)</th>\n",
       "      <th>8_diffClosing stocks(kmt)</th>\n",
       "      <th>8_diffExports(kmt)</th>\n",
       "      <th>8_diffImports(kmt)</th>\n",
       "      <th>8_diffRefinery intake(kmt)</th>\n",
       "      <th>8_diffWTI</th>\n",
       "      <th>8_diffSumClosing stocks(kmt)</th>\n",
       "      <th>8_diffSumExports(kmt)</th>\n",
       "      <th>8_diffSumImports(kmt)</th>\n",
       "      <th>8_diffSumProduction(kmt)</th>\n",
       "      <th>8_diffSumRefinery intake(kmt)</th>\n",
       "      <th>9_diffClosing stocks(kmt)</th>\n",
       "      <th>9_diffExports(kmt)</th>\n",
       "      <th>9_diffImports(kmt)</th>\n",
       "      <th>9_diffRefinery intake(kmt)</th>\n",
       "      <th>9_diffWTI</th>\n",
       "      <th>9_diffSumClosing stocks(kmt)</th>\n",
       "      <th>9_diffSumExports(kmt)</th>\n",
       "      <th>9_diffSumImports(kmt)</th>\n",
       "      <th>9_diffSumProduction(kmt)</th>\n",
       "      <th>9_diffSumRefinery intake(kmt)</th>\n",
       "      <th>10_diffClosing stocks(kmt)</th>\n",
       "      <th>10_diffExports(kmt)</th>\n",
       "      <th>10_diffImports(kmt)</th>\n",
       "      <th>10_diffRefinery intake(kmt)</th>\n",
       "      <th>10_diffWTI</th>\n",
       "      <th>10_diffSumClosing stocks(kmt)</th>\n",
       "      <th>10_diffSumExports(kmt)</th>\n",
       "      <th>10_diffSumImports(kmt)</th>\n",
       "      <th>10_diffSumProduction(kmt)</th>\n",
       "      <th>10_diffSumRefinery intake(kmt)</th>\n",
       "      <th>11_diffClosing stocks(kmt)</th>\n",
       "      <th>11_diffExports(kmt)</th>\n",
       "      <th>11_diffImports(kmt)</th>\n",
       "      <th>11_diffRefinery intake(kmt)</th>\n",
       "      <th>11_diffWTI</th>\n",
       "      <th>11_diffSumClosing stocks(kmt)</th>\n",
       "      <th>11_diffSumExports(kmt)</th>\n",
       "      <th>11_diffSumImports(kmt)</th>\n",
       "      <th>11_diffSumProduction(kmt)</th>\n",
       "      <th>11_diffSumRefinery intake(kmt)</th>\n",
       "      <th>12_diffClosing stocks(kmt)</th>\n",
       "      <th>12_diffExports(kmt)</th>\n",
       "      <th>12_diffImports(kmt)</th>\n",
       "      <th>12_diffRefinery intake(kmt)</th>\n",
       "      <th>12_diffWTI</th>\n",
       "      <th>12_diffSumClosing stocks(kmt)</th>\n",
       "      <th>12_diffSumExports(kmt)</th>\n",
       "      <th>12_diffSumImports(kmt)</th>\n",
       "      <th>12_diffSumProduction(kmt)</th>\n",
       "      <th>12_diffSumRefinery intake(kmt)</th>\n",
       "      <th>Target</th>\n",
       "    </tr>\n",
       "  </thead>\n",
       "  <tbody>\n",
       "    <tr>\n",
       "      <th>0</th>\n",
       "      <td>ID04188</td>\n",
       "      <td>6</td>\n",
       "      <td>46</td>\n",
       "      <td>0.0000</td>\n",
       "      <td>0.0000</td>\n",
       "      <td>0.0000</td>\n",
       "      <td>0.0000</td>\n",
       "      <td>2.62</td>\n",
       "      <td>7069.8310</td>\n",
       "      <td>-3216.1655</td>\n",
       "      <td>3291.5712</td>\n",
       "      <td>-9977.5602</td>\n",
       "      <td>-5846.3237</td>\n",
       "      <td>0.000</td>\n",
       "      <td>0.000</td>\n",
       "      <td>0.0000</td>\n",
       "      <td>0.0000</td>\n",
       "      <td>-12.07</td>\n",
       "      <td>-2652.6804</td>\n",
       "      <td>2165.7119</td>\n",
       "      <td>-4491.3056</td>\n",
       "      <td>8211.1276</td>\n",
       "      <td>5942.2535</td>\n",
       "      <td>0.0000</td>\n",
       "      <td>0.0000</td>\n",
       "      <td>0.0</td>\n",
       "      <td>0.0000</td>\n",
       "      <td>1.59</td>\n",
       "      <td>-1421.2644</td>\n",
       "      <td>-6194.2674</td>\n",
       "      <td>7706.7709</td>\n",
       "      <td>-10581.6649</td>\n",
       "      <td>2893.4431</td>\n",
       "      <td>0.0000</td>\n",
       "      <td>0.0000</td>\n",
       "      <td>0.0</td>\n",
       "      <td>0.0000</td>\n",
       "      <td>3.26</td>\n",
       "      <td>1116.3770</td>\n",
       "      <td>2926.9305</td>\n",
       "      <td>3217.1662</td>\n",
       "      <td>10352.5908</td>\n",
       "      <td>8773.1126</td>\n",
       "      <td>0.0000</td>\n",
       "      <td>0.0000</td>\n",
       "      <td>0.0</td>\n",
       "      <td>0.0000</td>\n",
       "      <td>-6.92</td>\n",
       "      <td>2099.9996</td>\n",
       "      <td>-2666.4446</td>\n",
       "      <td>-3956.1835</td>\n",
       "      <td>-162.9430</td>\n",
       "      <td>468.7699</td>\n",
       "      <td>0.0000</td>\n",
       "      <td>0.0000</td>\n",
       "      <td>0.0</td>\n",
       "      <td>0.0000</td>\n",
       "      <td>8.02</td>\n",
       "      <td>-4942.9161</td>\n",
       "      <td>762.3373</td>\n",
       "      <td>-6657.2639</td>\n",
       "      <td>-7457.7408</td>\n",
       "      <td>-10467.5500</td>\n",
       "      <td>0.0000</td>\n",
       "      <td>0.0000</td>\n",
       "      <td>0.0</td>\n",
       "      <td>0.0000</td>\n",
       "      <td>1.50</td>\n",
       "      <td>4572.1869</td>\n",
       "      <td>219.2813</td>\n",
       "      <td>-3695.8343</td>\n",
       "      <td>10071.9849</td>\n",
       "      <td>-5463.0963</td>\n",
       "      <td>0.0000</td>\n",
       "      <td>0.0000</td>\n",
       "      <td>0.0</td>\n",
       "      <td>0.0000</td>\n",
       "      <td>2.67</td>\n",
       "      <td>-5302.6713</td>\n",
       "      <td>3348.4325</td>\n",
       "      <td>3339.9561</td>\n",
       "      <td>-8501.1013</td>\n",
       "      <td>4832.3461</td>\n",
       "      <td>0.0000</td>\n",
       "      <td>0.0000</td>\n",
       "      <td>0.0</td>\n",
       "      <td>0.0000</td>\n",
       "      <td>7.26</td>\n",
       "      <td>-2856.9324</td>\n",
       "      <td>8578.2891</td>\n",
       "      <td>5797.0895</td>\n",
       "      <td>11567.3423</td>\n",
       "      <td>11558.1583</td>\n",
       "      <td>0.0</td>\n",
       "      <td>0.0000</td>\n",
       "      <td>0.0</td>\n",
       "      <td>0.0000</td>\n",
       "      <td>-0.39</td>\n",
       "      <td>-1368.6205</td>\n",
       "      <td>-7199.7508</td>\n",
       "      <td>992.1046</td>\n",
       "      <td>1026.5045</td>\n",
       "      <td>-37.1761</td>\n",
       "      <td>0.0000</td>\n",
       "      <td>0.0000</td>\n",
       "      <td>0.0</td>\n",
       "      <td>0.0000</td>\n",
       "      <td>6.11</td>\n",
       "      <td>-1109.4247</td>\n",
       "      <td>-8571.0166</td>\n",
       "      <td>-21553.7547</td>\n",
       "      <td>-27304.6951</td>\n",
       "      <td>-34199.3100</td>\n",
       "      <td>0.000</td>\n",
       "      <td>0.0000</td>\n",
       "      <td>0.0</td>\n",
       "      <td>0.0000</td>\n",
       "      <td>9.09</td>\n",
       "      <td>9341.6818</td>\n",
       "      <td>7186.3975</td>\n",
       "      <td>22441.0501</td>\n",
       "      <td>21649.3543</td>\n",
       "      <td>27000.5446</td>\n",
       "      <td>0</td>\n",
       "    </tr>\n",
       "    <tr>\n",
       "      <th>1</th>\n",
       "      <td>ID02229</td>\n",
       "      <td>8</td>\n",
       "      <td>73</td>\n",
       "      <td>-117.0000</td>\n",
       "      <td>0.0000</td>\n",
       "      <td>-125.0000</td>\n",
       "      <td>6.0000</td>\n",
       "      <td>-7.40</td>\n",
       "      <td>-4477.9738</td>\n",
       "      <td>-675.9654</td>\n",
       "      <td>-3155.1122</td>\n",
       "      <td>-6110.6867</td>\n",
       "      <td>-3398.2043</td>\n",
       "      <td>10.000</td>\n",
       "      <td>0.000</td>\n",
       "      <td>20.0000</td>\n",
       "      <td>14.0000</td>\n",
       "      <td>0.38</td>\n",
       "      <td>-4169.4805</td>\n",
       "      <td>3348.5802</td>\n",
       "      <td>5221.9424</td>\n",
       "      <td>8194.1182</td>\n",
       "      <td>8280.4457</td>\n",
       "      <td>-14.0000</td>\n",
       "      <td>0.0000</td>\n",
       "      <td>-25.0</td>\n",
       "      <td>-85.0000</td>\n",
       "      <td>-6.87</td>\n",
       "      <td>-5568.1857</td>\n",
       "      <td>1897.2103</td>\n",
       "      <td>523.2691</td>\n",
       "      <td>2815.5557</td>\n",
       "      <td>2466.8282</td>\n",
       "      <td>63.0000</td>\n",
       "      <td>0.0000</td>\n",
       "      <td>-15.0</td>\n",
       "      <td>-88.0000</td>\n",
       "      <td>-9.88</td>\n",
       "      <td>410.6264</td>\n",
       "      <td>-11801.9158</td>\n",
       "      <td>-6149.1021</td>\n",
       "      <td>-11505.1199</td>\n",
       "      <td>-16479.2948</td>\n",
       "      <td>-68.0000</td>\n",
       "      <td>0.0000</td>\n",
       "      <td>-46.0</td>\n",
       "      <td>84.0000</td>\n",
       "      <td>14.26</td>\n",
       "      <td>-347.1115</td>\n",
       "      <td>14913.5066</td>\n",
       "      <td>1755.1783</td>\n",
       "      <td>11917.8236</td>\n",
       "      <td>3333.8149</td>\n",
       "      <td>-49.0000</td>\n",
       "      <td>0.0000</td>\n",
       "      <td>19.0</td>\n",
       "      <td>18.0000</td>\n",
       "      <td>7.17</td>\n",
       "      <td>1642.8120</td>\n",
       "      <td>-6964.0468</td>\n",
       "      <td>2112.0208</td>\n",
       "      <td>-4765.5951</td>\n",
       "      <td>2166.4856</td>\n",
       "      <td>-33.0000</td>\n",
       "      <td>0.0000</td>\n",
       "      <td>-23.0</td>\n",
       "      <td>-21.0000</td>\n",
       "      <td>-1.53</td>\n",
       "      <td>-3871.7808</td>\n",
       "      <td>8955.0574</td>\n",
       "      <td>1210.5380</td>\n",
       "      <td>7768.6672</td>\n",
       "      <td>7369.5721</td>\n",
       "      <td>-13.0000</td>\n",
       "      <td>0.0000</td>\n",
       "      <td>-25.0</td>\n",
       "      <td>-35.0000</td>\n",
       "      <td>-0.37</td>\n",
       "      <td>7872.1638</td>\n",
       "      <td>1455.8212</td>\n",
       "      <td>8591.6520</td>\n",
       "      <td>4178.0130</td>\n",
       "      <td>1082.3922</td>\n",
       "      <td>-1.0000</td>\n",
       "      <td>0.0000</td>\n",
       "      <td>47.0</td>\n",
       "      <td>-49.0000</td>\n",
       "      <td>8.62</td>\n",
       "      <td>1157.7057</td>\n",
       "      <td>-4469.0027</td>\n",
       "      <td>-9726.7317</td>\n",
       "      <td>-16917.8483</td>\n",
       "      <td>-15146.8342</td>\n",
       "      <td>-32.0</td>\n",
       "      <td>0.0000</td>\n",
       "      <td>-350.0</td>\n",
       "      <td>-313.0000</td>\n",
       "      <td>-4.05</td>\n",
       "      <td>5542.7846</td>\n",
       "      <td>6826.3000</td>\n",
       "      <td>3963.0511</td>\n",
       "      <td>20820.2155</td>\n",
       "      <td>17470.8133</td>\n",
       "      <td>0.0000</td>\n",
       "      <td>0.0000</td>\n",
       "      <td>-5.0</td>\n",
       "      <td>-23.0000</td>\n",
       "      <td>1.86</td>\n",
       "      <td>4542.3605</td>\n",
       "      <td>-6912.5599</td>\n",
       "      <td>-3970.6252</td>\n",
       "      <td>-7432.5681</td>\n",
       "      <td>-14677.0249</td>\n",
       "      <td>-4.000</td>\n",
       "      <td>0.0000</td>\n",
       "      <td>2.0</td>\n",
       "      <td>6.0000</td>\n",
       "      <td>-18.37</td>\n",
       "      <td>1158.2971</td>\n",
       "      <td>5592.9500</td>\n",
       "      <td>7813.3317</td>\n",
       "      <td>6655.9429</td>\n",
       "      <td>13708.0310</td>\n",
       "      <td>0</td>\n",
       "    </tr>\n",
       "    <tr>\n",
       "      <th>2</th>\n",
       "      <td>ID01116</td>\n",
       "      <td>3</td>\n",
       "      <td>7</td>\n",
       "      <td>0.0000</td>\n",
       "      <td>601.0000</td>\n",
       "      <td>954.0000</td>\n",
       "      <td>0.0000</td>\n",
       "      <td>0.65</td>\n",
       "      <td>11955.6239</td>\n",
       "      <td>2183.3548</td>\n",
       "      <td>2914.9567</td>\n",
       "      <td>-258.3885</td>\n",
       "      <td>4412.7639</td>\n",
       "      <td>0.000</td>\n",
       "      <td>48.000</td>\n",
       "      <td>-44.0000</td>\n",
       "      <td>0.0000</td>\n",
       "      <td>2.92</td>\n",
       "      <td>673.8569</td>\n",
       "      <td>-13007.1520</td>\n",
       "      <td>-5932.5482</td>\n",
       "      <td>-17130.8333</td>\n",
       "      <td>-13151.4560</td>\n",
       "      <td>0.0000</td>\n",
       "      <td>5.0000</td>\n",
       "      <td>50.0</td>\n",
       "      <td>0.0000</td>\n",
       "      <td>-0.33</td>\n",
       "      <td>6320.4728</td>\n",
       "      <td>19899.8242</td>\n",
       "      <td>10094.1744</td>\n",
       "      <td>16736.8301</td>\n",
       "      <td>10951.4688</td>\n",
       "      <td>0.0000</td>\n",
       "      <td>-14.0000</td>\n",
       "      <td>-22.0</td>\n",
       "      <td>0.0000</td>\n",
       "      <td>1.56</td>\n",
       "      <td>2053.0322</td>\n",
       "      <td>-12407.3611</td>\n",
       "      <td>-6992.4780</td>\n",
       "      <td>-10142.2844</td>\n",
       "      <td>345.4324</td>\n",
       "      <td>0.0000</td>\n",
       "      <td>-17.0000</td>\n",
       "      <td>19.0</td>\n",
       "      <td>0.0000</td>\n",
       "      <td>2.59</td>\n",
       "      <td>952.4663</td>\n",
       "      <td>1703.9126</td>\n",
       "      <td>7072.1864</td>\n",
       "      <td>12766.0142</td>\n",
       "      <td>-416.3662</td>\n",
       "      <td>0.0000</td>\n",
       "      <td>-99.0000</td>\n",
       "      <td>-68.0</td>\n",
       "      <td>0.0000</td>\n",
       "      <td>-2.98</td>\n",
       "      <td>-608.0429</td>\n",
       "      <td>-42.2514</td>\n",
       "      <td>-3416.1956</td>\n",
       "      <td>-2982.6795</td>\n",
       "      <td>-399.0076</td>\n",
       "      <td>0.0000</td>\n",
       "      <td>-448.0000</td>\n",
       "      <td>82.0</td>\n",
       "      <td>0.0000</td>\n",
       "      <td>6.80</td>\n",
       "      <td>411.3844</td>\n",
       "      <td>12235.8057</td>\n",
       "      <td>3210.2984</td>\n",
       "      <td>10908.1097</td>\n",
       "      <td>8679.2593</td>\n",
       "      <td>0.0000</td>\n",
       "      <td>539.0000</td>\n",
       "      <td>4.0</td>\n",
       "      <td>0.0000</td>\n",
       "      <td>-1.49</td>\n",
       "      <td>-795.9220</td>\n",
       "      <td>-6970.3787</td>\n",
       "      <td>15436.3513</td>\n",
       "      <td>169.6097</td>\n",
       "      <td>3184.8428</td>\n",
       "      <td>0.0000</td>\n",
       "      <td>-1.0000</td>\n",
       "      <td>-553.0</td>\n",
       "      <td>0.0000</td>\n",
       "      <td>7.33</td>\n",
       "      <td>-82.3617</td>\n",
       "      <td>4250.2224</td>\n",
       "      <td>-26272.2875</td>\n",
       "      <td>-8303.6222</td>\n",
       "      <td>-16628.0099</td>\n",
       "      <td>0.0</td>\n",
       "      <td>22.0000</td>\n",
       "      <td>536.0</td>\n",
       "      <td>0.0000</td>\n",
       "      <td>2.22</td>\n",
       "      <td>192.4645</td>\n",
       "      <td>2148.8449</td>\n",
       "      <td>4956.7036</td>\n",
       "      <td>9865.3804</td>\n",
       "      <td>6270.2905</td>\n",
       "      <td>0.0000</td>\n",
       "      <td>-56.0000</td>\n",
       "      <td>-17.0</td>\n",
       "      <td>0.0000</td>\n",
       "      <td>-2.62</td>\n",
       "      <td>6434.5379</td>\n",
       "      <td>-1398.8519</td>\n",
       "      <td>1685.0951</td>\n",
       "      <td>-6704.0903</td>\n",
       "      <td>496.9148</td>\n",
       "      <td>0.000</td>\n",
       "      <td>73.0000</td>\n",
       "      <td>33.0</td>\n",
       "      <td>0.0000</td>\n",
       "      <td>-5.80</td>\n",
       "      <td>-5886.7599</td>\n",
       "      <td>6490.3996</td>\n",
       "      <td>21534.4067</td>\n",
       "      <td>2257.4031</td>\n",
       "      <td>14769.6373</td>\n",
       "      <td>1</td>\n",
       "    </tr>\n",
       "    <tr>\n",
       "      <th>3</th>\n",
       "      <td>ID06858</td>\n",
       "      <td>9</td>\n",
       "      <td>27</td>\n",
       "      <td>98.0000</td>\n",
       "      <td>-69.0000</td>\n",
       "      <td>499.0000</td>\n",
       "      <td>865.0000</td>\n",
       "      <td>3.04</td>\n",
       "      <td>-3143.2323</td>\n",
       "      <td>-566.6417</td>\n",
       "      <td>5975.3444</td>\n",
       "      <td>9230.8707</td>\n",
       "      <td>15595.8708</td>\n",
       "      <td>24.000</td>\n",
       "      <td>35.000</td>\n",
       "      <td>-77.0000</td>\n",
       "      <td>80.0000</td>\n",
       "      <td>8.39</td>\n",
       "      <td>-1105.6185</td>\n",
       "      <td>30.1372</td>\n",
       "      <td>-1947.5458</td>\n",
       "      <td>1164.3723</td>\n",
       "      <td>-1502.6444</td>\n",
       "      <td>176.0000</td>\n",
       "      <td>20.0000</td>\n",
       "      <td>140.0</td>\n",
       "      <td>-14.0000</td>\n",
       "      <td>-4.29</td>\n",
       "      <td>192.8136</td>\n",
       "      <td>-7366.6492</td>\n",
       "      <td>-7502.3402</td>\n",
       "      <td>-10874.9151</td>\n",
       "      <td>-15372.2129</td>\n",
       "      <td>166.0000</td>\n",
       "      <td>-52.0000</td>\n",
       "      <td>320.0</td>\n",
       "      <td>397.0000</td>\n",
       "      <td>-5.95</td>\n",
       "      <td>195.2005</td>\n",
       "      <td>7500.1033</td>\n",
       "      <td>6335.0098</td>\n",
       "      <td>12732.1449</td>\n",
       "      <td>9538.8196</td>\n",
       "      <td>153.0000</td>\n",
       "      <td>-3.0000</td>\n",
       "      <td>-94.0</td>\n",
       "      <td>-250.0000</td>\n",
       "      <td>2.31</td>\n",
       "      <td>1655.5214</td>\n",
       "      <td>-3691.7079</td>\n",
       "      <td>-836.2419</td>\n",
       "      <td>-4159.0155</td>\n",
       "      <td>-4154.0051</td>\n",
       "      <td>-34.0000</td>\n",
       "      <td>0.0000</td>\n",
       "      <td>-552.0</td>\n",
       "      <td>-181.0000</td>\n",
       "      <td>3.29</td>\n",
       "      <td>-5669.9954</td>\n",
       "      <td>6087.2918</td>\n",
       "      <td>-305.7071</td>\n",
       "      <td>8436.4626</td>\n",
       "      <td>12519.3416</td>\n",
       "      <td>487.0000</td>\n",
       "      <td>34.0000</td>\n",
       "      <td>563.0</td>\n",
       "      <td>-135.0000</td>\n",
       "      <td>5.82</td>\n",
       "      <td>4256.6040</td>\n",
       "      <td>-6163.9167</td>\n",
       "      <td>5479.7160</td>\n",
       "      <td>-174.7942</td>\n",
       "      <td>-4042.4373</td>\n",
       "      <td>-423.0000</td>\n",
       "      <td>-34.0000</td>\n",
       "      <td>-1528.0</td>\n",
       "      <td>-639.0000</td>\n",
       "      <td>-5.62</td>\n",
       "      <td>-403.5229</td>\n",
       "      <td>-9689.1309</td>\n",
       "      <td>-21307.0273</td>\n",
       "      <td>-27347.1868</td>\n",
       "      <td>-29017.4156</td>\n",
       "      <td>229.0000</td>\n",
       "      <td>0.0000</td>\n",
       "      <td>856.0</td>\n",
       "      <td>287.0000</td>\n",
       "      <td>5.21</td>\n",
       "      <td>3810.5021</td>\n",
       "      <td>14021.7860</td>\n",
       "      <td>14388.6486</td>\n",
       "      <td>26912.3218</td>\n",
       "      <td>22314.5198</td>\n",
       "      <td>428.0</td>\n",
       "      <td>0.0000</td>\n",
       "      <td>-545.0</td>\n",
       "      <td>-827.0000</td>\n",
       "      <td>-4.02</td>\n",
       "      <td>2846.7778</td>\n",
       "      <td>-3062.5934</td>\n",
       "      <td>-3528.5010</td>\n",
       "      <td>-7132.5364</td>\n",
       "      <td>-8390.1861</td>\n",
       "      <td>185.0000</td>\n",
       "      <td>0.0000</td>\n",
       "      <td>652.0</td>\n",
       "      <td>938.0000</td>\n",
       "      <td>-1.29</td>\n",
       "      <td>966.1555</td>\n",
       "      <td>4954.8497</td>\n",
       "      <td>5461.8036</td>\n",
       "      <td>10283.7521</td>\n",
       "      <td>11931.5244</td>\n",
       "      <td>-481.000</td>\n",
       "      <td>0.0000</td>\n",
       "      <td>-680.0</td>\n",
       "      <td>104.0000</td>\n",
       "      <td>4.43</td>\n",
       "      <td>-2504.4632</td>\n",
       "      <td>-11151.8836</td>\n",
       "      <td>-9154.3416</td>\n",
       "      <td>-10931.2210</td>\n",
       "      <td>2850.7985</td>\n",
       "      <td>0</td>\n",
       "    </tr>\n",
       "    <tr>\n",
       "      <th>4</th>\n",
       "      <td>ID02754</td>\n",
       "      <td>6</td>\n",
       "      <td>3</td>\n",
       "      <td>16.7135</td>\n",
       "      <td>112.2191</td>\n",
       "      <td>1.4045</td>\n",
       "      <td>19.9439</td>\n",
       "      <td>12.16</td>\n",
       "      <td>830.1912</td>\n",
       "      <td>269.7015</td>\n",
       "      <td>-7511.8921</td>\n",
       "      <td>-11652.5443</td>\n",
       "      <td>-13372.9639</td>\n",
       "      <td>-169.663</td>\n",
       "      <td>-293.118</td>\n",
       "      <td>-2.2472</td>\n",
       "      <td>148.0337</td>\n",
       "      <td>13.65</td>\n",
       "      <td>-3284.4908</td>\n",
       "      <td>3898.9026</td>\n",
       "      <td>2763.9683</td>\n",
       "      <td>9378.1946</td>\n",
       "      <td>13542.7841</td>\n",
       "      <td>127.1068</td>\n",
       "      <td>15.5899</td>\n",
       "      <td>0.0</td>\n",
       "      <td>-225.2809</td>\n",
       "      <td>12.61</td>\n",
       "      <td>2786.9359</td>\n",
       "      <td>-4286.4373</td>\n",
       "      <td>-2623.4885</td>\n",
       "      <td>-7817.3203</td>\n",
       "      <td>-7381.6862</td>\n",
       "      <td>52.5281</td>\n",
       "      <td>133.7079</td>\n",
       "      <td>0.0</td>\n",
       "      <td>-14.1854</td>\n",
       "      <td>-15.79</td>\n",
       "      <td>473.7204</td>\n",
       "      <td>1000.7057</td>\n",
       "      <td>6570.3928</td>\n",
       "      <td>11479.8349</td>\n",
       "      <td>9437.7656</td>\n",
       "      <td>161.5168</td>\n",
       "      <td>141.4326</td>\n",
       "      <td>0.0</td>\n",
       "      <td>220.7865</td>\n",
       "      <td>-8.62</td>\n",
       "      <td>-2929.8903</td>\n",
       "      <td>1072.8473</td>\n",
       "      <td>504.0197</td>\n",
       "      <td>-4827.2299</td>\n",
       "      <td>3962.6288</td>\n",
       "      <td>-88.6236</td>\n",
       "      <td>-106.7416</td>\n",
       "      <td>0.0</td>\n",
       "      <td>-84.5506</td>\n",
       "      <td>-14.85</td>\n",
       "      <td>4636.3242</td>\n",
       "      <td>-12084.7079</td>\n",
       "      <td>-16072.0095</td>\n",
       "      <td>-10930.3444</td>\n",
       "      <td>-23788.6940</td>\n",
       "      <td>103.5113</td>\n",
       "      <td>127.5281</td>\n",
       "      <td>0.0</td>\n",
       "      <td>-11.0955</td>\n",
       "      <td>-32.60</td>\n",
       "      <td>5108.1212</td>\n",
       "      <td>11540.4425</td>\n",
       "      <td>14204.4717</td>\n",
       "      <td>12949.1682</td>\n",
       "      <td>15777.6162</td>\n",
       "      <td>-10.1124</td>\n",
       "      <td>-19.5225</td>\n",
       "      <td>0.0</td>\n",
       "      <td>-324.2977</td>\n",
       "      <td>-12.89</td>\n",
       "      <td>371.6212</td>\n",
       "      <td>-9245.4723</td>\n",
       "      <td>-11594.1932</td>\n",
       "      <td>-14411.1174</td>\n",
       "      <td>-10187.1927</td>\n",
       "      <td>-172.8933</td>\n",
       "      <td>170.2247</td>\n",
       "      <td>0.0</td>\n",
       "      <td>260.5337</td>\n",
       "      <td>-10.61</td>\n",
       "      <td>-1972.9481</td>\n",
       "      <td>7132.4171</td>\n",
       "      <td>6530.5049</td>\n",
       "      <td>8097.2619</td>\n",
       "      <td>7605.0226</td>\n",
       "      <td>0.0</td>\n",
       "      <td>-446.6292</td>\n",
       "      <td>0.0</td>\n",
       "      <td>-99.4382</td>\n",
       "      <td>-2.87</td>\n",
       "      <td>5932.8693</td>\n",
       "      <td>-8217.7686</td>\n",
       "      <td>-1105.8695</td>\n",
       "      <td>-6166.6748</td>\n",
       "      <td>-6093.6192</td>\n",
       "      <td>-37.3595</td>\n",
       "      <td>133.7079</td>\n",
       "      <td>0.0</td>\n",
       "      <td>-265.0281</td>\n",
       "      <td>2.42</td>\n",
       "      <td>-1248.1760</td>\n",
       "      <td>-12344.7158</td>\n",
       "      <td>-18690.9974</td>\n",
       "      <td>-26773.8205</td>\n",
       "      <td>-21027.8983</td>\n",
       "      <td>33.427</td>\n",
       "      <td>142.5562</td>\n",
       "      <td>0.0</td>\n",
       "      <td>290.0281</td>\n",
       "      <td>5.49</td>\n",
       "      <td>-24272.1488</td>\n",
       "      <td>10527.6510</td>\n",
       "      <td>16947.2945</td>\n",
       "      <td>28844.2150</td>\n",
       "      <td>22691.3429</td>\n",
       "      <td>0</td>\n",
       "    </tr>\n",
       "  </tbody>\n",
       "</table>\n",
       "</div>"
      ],
      "text/plain": [
       "        ID  month  country  1_diffClosing stocks(kmt)  1_diffExports(kmt)  \\\n",
       "0  ID04188      6       46                     0.0000              0.0000   \n",
       "1  ID02229      8       73                  -117.0000              0.0000   \n",
       "2  ID01116      3        7                     0.0000            601.0000   \n",
       "3  ID06858      9       27                    98.0000            -69.0000   \n",
       "4  ID02754      6        3                    16.7135            112.2191   \n",
       "\n",
       "   1_diffImports(kmt)  1_diffRefinery intake(kmt)  1_diffWTI  \\\n",
       "0              0.0000                      0.0000       2.62   \n",
       "1           -125.0000                      6.0000      -7.40   \n",
       "2            954.0000                      0.0000       0.65   \n",
       "3            499.0000                    865.0000       3.04   \n",
       "4              1.4045                     19.9439      12.16   \n",
       "\n",
       "   1_diffSumClosing stocks(kmt)  1_diffSumExports(kmt)  1_diffSumImports(kmt)  \\\n",
       "0                     7069.8310             -3216.1655              3291.5712   \n",
       "1                    -4477.9738              -675.9654             -3155.1122   \n",
       "2                    11955.6239              2183.3548              2914.9567   \n",
       "3                    -3143.2323              -566.6417              5975.3444   \n",
       "4                      830.1912               269.7015             -7511.8921   \n",
       "\n",
       "   1_diffSumProduction(kmt)  1_diffSumRefinery intake(kmt)  \\\n",
       "0                -9977.5602                     -5846.3237   \n",
       "1                -6110.6867                     -3398.2043   \n",
       "2                 -258.3885                      4412.7639   \n",
       "3                 9230.8707                     15595.8708   \n",
       "4               -11652.5443                    -13372.9639   \n",
       "\n",
       "   2_diffClosing stocks(kmt)  2_diffExports(kmt)  2_diffImports(kmt)  \\\n",
       "0                      0.000               0.000              0.0000   \n",
       "1                     10.000               0.000             20.0000   \n",
       "2                      0.000              48.000            -44.0000   \n",
       "3                     24.000              35.000            -77.0000   \n",
       "4                   -169.663            -293.118             -2.2472   \n",
       "\n",
       "   2_diffRefinery intake(kmt)  2_diffWTI  2_diffSumClosing stocks(kmt)  \\\n",
       "0                      0.0000     -12.07                    -2652.6804   \n",
       "1                     14.0000       0.38                    -4169.4805   \n",
       "2                      0.0000       2.92                      673.8569   \n",
       "3                     80.0000       8.39                    -1105.6185   \n",
       "4                    148.0337      13.65                    -3284.4908   \n",
       "\n",
       "   2_diffSumExports(kmt)  2_diffSumImports(kmt)  2_diffSumProduction(kmt)  \\\n",
       "0              2165.7119             -4491.3056                 8211.1276   \n",
       "1              3348.5802              5221.9424                 8194.1182   \n",
       "2            -13007.1520             -5932.5482               -17130.8333   \n",
       "3                30.1372             -1947.5458                 1164.3723   \n",
       "4              3898.9026              2763.9683                 9378.1946   \n",
       "\n",
       "   2_diffSumRefinery intake(kmt)  3_diffClosing stocks(kmt)  \\\n",
       "0                      5942.2535                     0.0000   \n",
       "1                      8280.4457                   -14.0000   \n",
       "2                    -13151.4560                     0.0000   \n",
       "3                     -1502.6444                   176.0000   \n",
       "4                     13542.7841                   127.1068   \n",
       "\n",
       "   3_diffExports(kmt)  3_diffImports(kmt)  3_diffRefinery intake(kmt)  \\\n",
       "0              0.0000                 0.0                      0.0000   \n",
       "1              0.0000               -25.0                    -85.0000   \n",
       "2              5.0000                50.0                      0.0000   \n",
       "3             20.0000               140.0                    -14.0000   \n",
       "4             15.5899                 0.0                   -225.2809   \n",
       "\n",
       "   3_diffWTI  3_diffSumClosing stocks(kmt)  3_diffSumExports(kmt)  \\\n",
       "0       1.59                    -1421.2644             -6194.2674   \n",
       "1      -6.87                    -5568.1857              1897.2103   \n",
       "2      -0.33                     6320.4728             19899.8242   \n",
       "3      -4.29                      192.8136             -7366.6492   \n",
       "4      12.61                     2786.9359             -4286.4373   \n",
       "\n",
       "   3_diffSumImports(kmt)  3_diffSumProduction(kmt)  \\\n",
       "0              7706.7709               -10581.6649   \n",
       "1               523.2691                 2815.5557   \n",
       "2             10094.1744                16736.8301   \n",
       "3             -7502.3402               -10874.9151   \n",
       "4             -2623.4885                -7817.3203   \n",
       "\n",
       "   3_diffSumRefinery intake(kmt)  4_diffClosing stocks(kmt)  \\\n",
       "0                      2893.4431                     0.0000   \n",
       "1                      2466.8282                    63.0000   \n",
       "2                     10951.4688                     0.0000   \n",
       "3                    -15372.2129                   166.0000   \n",
       "4                     -7381.6862                    52.5281   \n",
       "\n",
       "   4_diffExports(kmt)  4_diffImports(kmt)  4_diffRefinery intake(kmt)  \\\n",
       "0              0.0000                 0.0                      0.0000   \n",
       "1              0.0000               -15.0                    -88.0000   \n",
       "2            -14.0000               -22.0                      0.0000   \n",
       "3            -52.0000               320.0                    397.0000   \n",
       "4            133.7079                 0.0                    -14.1854   \n",
       "\n",
       "   4_diffWTI  4_diffSumClosing stocks(kmt)  4_diffSumExports(kmt)  \\\n",
       "0       3.26                     1116.3770              2926.9305   \n",
       "1      -9.88                      410.6264            -11801.9158   \n",
       "2       1.56                     2053.0322            -12407.3611   \n",
       "3      -5.95                      195.2005              7500.1033   \n",
       "4     -15.79                      473.7204              1000.7057   \n",
       "\n",
       "   4_diffSumImports(kmt)  4_diffSumProduction(kmt)  \\\n",
       "0              3217.1662                10352.5908   \n",
       "1             -6149.1021               -11505.1199   \n",
       "2             -6992.4780               -10142.2844   \n",
       "3              6335.0098                12732.1449   \n",
       "4              6570.3928                11479.8349   \n",
       "\n",
       "   4_diffSumRefinery intake(kmt)  5_diffClosing stocks(kmt)  \\\n",
       "0                      8773.1126                     0.0000   \n",
       "1                    -16479.2948                   -68.0000   \n",
       "2                       345.4324                     0.0000   \n",
       "3                      9538.8196                   153.0000   \n",
       "4                      9437.7656                   161.5168   \n",
       "\n",
       "   5_diffExports(kmt)  5_diffImports(kmt)  5_diffRefinery intake(kmt)  \\\n",
       "0              0.0000                 0.0                      0.0000   \n",
       "1              0.0000               -46.0                     84.0000   \n",
       "2            -17.0000                19.0                      0.0000   \n",
       "3             -3.0000               -94.0                   -250.0000   \n",
       "4            141.4326                 0.0                    220.7865   \n",
       "\n",
       "   5_diffWTI  5_diffSumClosing stocks(kmt)  5_diffSumExports(kmt)  \\\n",
       "0      -6.92                     2099.9996             -2666.4446   \n",
       "1      14.26                     -347.1115             14913.5066   \n",
       "2       2.59                      952.4663              1703.9126   \n",
       "3       2.31                     1655.5214             -3691.7079   \n",
       "4      -8.62                    -2929.8903              1072.8473   \n",
       "\n",
       "   5_diffSumImports(kmt)  5_diffSumProduction(kmt)  \\\n",
       "0             -3956.1835                 -162.9430   \n",
       "1              1755.1783                11917.8236   \n",
       "2              7072.1864                12766.0142   \n",
       "3              -836.2419                -4159.0155   \n",
       "4               504.0197                -4827.2299   \n",
       "\n",
       "   5_diffSumRefinery intake(kmt)  6_diffClosing stocks(kmt)  \\\n",
       "0                       468.7699                     0.0000   \n",
       "1                      3333.8149                   -49.0000   \n",
       "2                      -416.3662                     0.0000   \n",
       "3                     -4154.0051                   -34.0000   \n",
       "4                      3962.6288                   -88.6236   \n",
       "\n",
       "   6_diffExports(kmt)  6_diffImports(kmt)  6_diffRefinery intake(kmt)  \\\n",
       "0              0.0000                 0.0                      0.0000   \n",
       "1              0.0000                19.0                     18.0000   \n",
       "2            -99.0000               -68.0                      0.0000   \n",
       "3              0.0000              -552.0                   -181.0000   \n",
       "4           -106.7416                 0.0                    -84.5506   \n",
       "\n",
       "   6_diffWTI  6_diffSumClosing stocks(kmt)  6_diffSumExports(kmt)  \\\n",
       "0       8.02                    -4942.9161               762.3373   \n",
       "1       7.17                     1642.8120             -6964.0468   \n",
       "2      -2.98                     -608.0429               -42.2514   \n",
       "3       3.29                    -5669.9954              6087.2918   \n",
       "4     -14.85                     4636.3242            -12084.7079   \n",
       "\n",
       "   6_diffSumImports(kmt)  6_diffSumProduction(kmt)  \\\n",
       "0             -6657.2639                -7457.7408   \n",
       "1              2112.0208                -4765.5951   \n",
       "2             -3416.1956                -2982.6795   \n",
       "3              -305.7071                 8436.4626   \n",
       "4            -16072.0095               -10930.3444   \n",
       "\n",
       "   6_diffSumRefinery intake(kmt)  7_diffClosing stocks(kmt)  \\\n",
       "0                    -10467.5500                     0.0000   \n",
       "1                      2166.4856                   -33.0000   \n",
       "2                      -399.0076                     0.0000   \n",
       "3                     12519.3416                   487.0000   \n",
       "4                    -23788.6940                   103.5113   \n",
       "\n",
       "   7_diffExports(kmt)  7_diffImports(kmt)  7_diffRefinery intake(kmt)  \\\n",
       "0              0.0000                 0.0                      0.0000   \n",
       "1              0.0000               -23.0                    -21.0000   \n",
       "2           -448.0000                82.0                      0.0000   \n",
       "3             34.0000               563.0                   -135.0000   \n",
       "4            127.5281                 0.0                    -11.0955   \n",
       "\n",
       "   7_diffWTI  7_diffSumClosing stocks(kmt)  7_diffSumExports(kmt)  \\\n",
       "0       1.50                     4572.1869               219.2813   \n",
       "1      -1.53                    -3871.7808              8955.0574   \n",
       "2       6.80                      411.3844             12235.8057   \n",
       "3       5.82                     4256.6040             -6163.9167   \n",
       "4     -32.60                     5108.1212             11540.4425   \n",
       "\n",
       "   7_diffSumImports(kmt)  7_diffSumProduction(kmt)  \\\n",
       "0             -3695.8343                10071.9849   \n",
       "1              1210.5380                 7768.6672   \n",
       "2              3210.2984                10908.1097   \n",
       "3              5479.7160                 -174.7942   \n",
       "4             14204.4717                12949.1682   \n",
       "\n",
       "   7_diffSumRefinery intake(kmt)  8_diffClosing stocks(kmt)  \\\n",
       "0                     -5463.0963                     0.0000   \n",
       "1                      7369.5721                   -13.0000   \n",
       "2                      8679.2593                     0.0000   \n",
       "3                     -4042.4373                  -423.0000   \n",
       "4                     15777.6162                   -10.1124   \n",
       "\n",
       "   8_diffExports(kmt)  8_diffImports(kmt)  8_diffRefinery intake(kmt)  \\\n",
       "0              0.0000                 0.0                      0.0000   \n",
       "1              0.0000               -25.0                    -35.0000   \n",
       "2            539.0000                 4.0                      0.0000   \n",
       "3            -34.0000             -1528.0                   -639.0000   \n",
       "4            -19.5225                 0.0                   -324.2977   \n",
       "\n",
       "   8_diffWTI  8_diffSumClosing stocks(kmt)  8_diffSumExports(kmt)  \\\n",
       "0       2.67                    -5302.6713              3348.4325   \n",
       "1      -0.37                     7872.1638              1455.8212   \n",
       "2      -1.49                     -795.9220             -6970.3787   \n",
       "3      -5.62                     -403.5229             -9689.1309   \n",
       "4     -12.89                      371.6212             -9245.4723   \n",
       "\n",
       "   8_diffSumImports(kmt)  8_diffSumProduction(kmt)  \\\n",
       "0              3339.9561                -8501.1013   \n",
       "1              8591.6520                 4178.0130   \n",
       "2             15436.3513                  169.6097   \n",
       "3            -21307.0273               -27347.1868   \n",
       "4            -11594.1932               -14411.1174   \n",
       "\n",
       "   8_diffSumRefinery intake(kmt)  9_diffClosing stocks(kmt)  \\\n",
       "0                      4832.3461                     0.0000   \n",
       "1                      1082.3922                    -1.0000   \n",
       "2                      3184.8428                     0.0000   \n",
       "3                    -29017.4156                   229.0000   \n",
       "4                    -10187.1927                  -172.8933   \n",
       "\n",
       "   9_diffExports(kmt)  9_diffImports(kmt)  9_diffRefinery intake(kmt)  \\\n",
       "0              0.0000                 0.0                      0.0000   \n",
       "1              0.0000                47.0                    -49.0000   \n",
       "2             -1.0000              -553.0                      0.0000   \n",
       "3              0.0000               856.0                    287.0000   \n",
       "4            170.2247                 0.0                    260.5337   \n",
       "\n",
       "   9_diffWTI  9_diffSumClosing stocks(kmt)  9_diffSumExports(kmt)  \\\n",
       "0       7.26                    -2856.9324              8578.2891   \n",
       "1       8.62                     1157.7057             -4469.0027   \n",
       "2       7.33                      -82.3617              4250.2224   \n",
       "3       5.21                     3810.5021             14021.7860   \n",
       "4     -10.61                    -1972.9481              7132.4171   \n",
       "\n",
       "   9_diffSumImports(kmt)  9_diffSumProduction(kmt)  \\\n",
       "0              5797.0895                11567.3423   \n",
       "1             -9726.7317               -16917.8483   \n",
       "2            -26272.2875                -8303.6222   \n",
       "3             14388.6486                26912.3218   \n",
       "4              6530.5049                 8097.2619   \n",
       "\n",
       "   9_diffSumRefinery intake(kmt)  10_diffClosing stocks(kmt)  \\\n",
       "0                     11558.1583                         0.0   \n",
       "1                    -15146.8342                       -32.0   \n",
       "2                    -16628.0099                         0.0   \n",
       "3                     22314.5198                       428.0   \n",
       "4                      7605.0226                         0.0   \n",
       "\n",
       "   10_diffExports(kmt)  10_diffImports(kmt)  10_diffRefinery intake(kmt)  \\\n",
       "0               0.0000                  0.0                       0.0000   \n",
       "1               0.0000               -350.0                    -313.0000   \n",
       "2              22.0000                536.0                       0.0000   \n",
       "3               0.0000               -545.0                    -827.0000   \n",
       "4            -446.6292                  0.0                     -99.4382   \n",
       "\n",
       "   10_diffWTI  10_diffSumClosing stocks(kmt)  10_diffSumExports(kmt)  \\\n",
       "0       -0.39                     -1368.6205              -7199.7508   \n",
       "1       -4.05                      5542.7846               6826.3000   \n",
       "2        2.22                       192.4645               2148.8449   \n",
       "3       -4.02                      2846.7778              -3062.5934   \n",
       "4       -2.87                      5932.8693              -8217.7686   \n",
       "\n",
       "   10_diffSumImports(kmt)  10_diffSumProduction(kmt)  \\\n",
       "0                992.1046                  1026.5045   \n",
       "1               3963.0511                 20820.2155   \n",
       "2               4956.7036                  9865.3804   \n",
       "3              -3528.5010                 -7132.5364   \n",
       "4              -1105.8695                 -6166.6748   \n",
       "\n",
       "   10_diffSumRefinery intake(kmt)  11_diffClosing stocks(kmt)  \\\n",
       "0                        -37.1761                      0.0000   \n",
       "1                      17470.8133                      0.0000   \n",
       "2                       6270.2905                      0.0000   \n",
       "3                      -8390.1861                    185.0000   \n",
       "4                      -6093.6192                    -37.3595   \n",
       "\n",
       "   11_diffExports(kmt)  11_diffImports(kmt)  11_diffRefinery intake(kmt)  \\\n",
       "0               0.0000                  0.0                       0.0000   \n",
       "1               0.0000                 -5.0                     -23.0000   \n",
       "2             -56.0000                -17.0                       0.0000   \n",
       "3               0.0000                652.0                     938.0000   \n",
       "4             133.7079                  0.0                    -265.0281   \n",
       "\n",
       "   11_diffWTI  11_diffSumClosing stocks(kmt)  11_diffSumExports(kmt)  \\\n",
       "0        6.11                     -1109.4247              -8571.0166   \n",
       "1        1.86                      4542.3605              -6912.5599   \n",
       "2       -2.62                      6434.5379              -1398.8519   \n",
       "3       -1.29                       966.1555               4954.8497   \n",
       "4        2.42                     -1248.1760             -12344.7158   \n",
       "\n",
       "   11_diffSumImports(kmt)  11_diffSumProduction(kmt)  \\\n",
       "0             -21553.7547                -27304.6951   \n",
       "1              -3970.6252                 -7432.5681   \n",
       "2               1685.0951                 -6704.0903   \n",
       "3               5461.8036                 10283.7521   \n",
       "4             -18690.9974                -26773.8205   \n",
       "\n",
       "   11_diffSumRefinery intake(kmt)  12_diffClosing stocks(kmt)  \\\n",
       "0                     -34199.3100                       0.000   \n",
       "1                     -14677.0249                      -4.000   \n",
       "2                        496.9148                       0.000   \n",
       "3                      11931.5244                    -481.000   \n",
       "4                     -21027.8983                      33.427   \n",
       "\n",
       "   12_diffExports(kmt)  12_diffImports(kmt)  12_diffRefinery intake(kmt)  \\\n",
       "0               0.0000                  0.0                       0.0000   \n",
       "1               0.0000                  2.0                       6.0000   \n",
       "2              73.0000                 33.0                       0.0000   \n",
       "3               0.0000               -680.0                     104.0000   \n",
       "4             142.5562                  0.0                     290.0281   \n",
       "\n",
       "   12_diffWTI  12_diffSumClosing stocks(kmt)  12_diffSumExports(kmt)  \\\n",
       "0        9.09                      9341.6818               7186.3975   \n",
       "1      -18.37                      1158.2971               5592.9500   \n",
       "2       -5.80                     -5886.7599               6490.3996   \n",
       "3        4.43                     -2504.4632             -11151.8836   \n",
       "4        5.49                    -24272.1488              10527.6510   \n",
       "\n",
       "   12_diffSumImports(kmt)  12_diffSumProduction(kmt)  \\\n",
       "0              22441.0501                 21649.3543   \n",
       "1               7813.3317                  6655.9429   \n",
       "2              21534.4067                  2257.4031   \n",
       "3              -9154.3416                -10931.2210   \n",
       "4              16947.2945                 28844.2150   \n",
       "\n",
       "   12_diffSumRefinery intake(kmt)  Target  \n",
       "0                      27000.5446       0  \n",
       "1                      13708.0310       0  \n",
       "2                      14769.6373       1  \n",
       "3                       2850.7985       0  \n",
       "4                      22691.3429       0  "
      ]
     },
     "execution_count": 31,
     "metadata": {},
     "output_type": "execute_result"
    }
   ],
   "source": [
    "train_data = pd.read_csv(\"Oil_train.csv\")\n",
    "train_data.head()"
   ]
  },
  {
   "cell_type": "code",
   "execution_count": 3,
   "metadata": {},
   "outputs": [
    {
     "name": "stdout",
     "output_type": "stream",
     "text": [
      "<class 'pandas.core.frame.DataFrame'>\n",
      "RangeIndex: 7619 entries, 0 to 7618\n",
      "Columns: 124 entries, ID to Target\n",
      "dtypes: float64(120), int64(3), object(1)\n",
      "memory usage: 7.2+ MB\n"
     ]
    }
   ],
   "source": [
    "train_data.info()"
   ]
  },
  {
   "cell_type": "code",
   "execution_count": 4,
   "metadata": {},
   "outputs": [
    {
     "data": {
      "text/plain": [
       "ID                                False\n",
       "month                             False\n",
       "country                           False\n",
       "1_diffClosing stocks(kmt)          True\n",
       "1_diffExports(kmt)                False\n",
       "                                  ...  \n",
       "12_diffSumExports(kmt)            False\n",
       "12_diffSumImports(kmt)            False\n",
       "12_diffSumProduction(kmt)         False\n",
       "12_diffSumRefinery intake(kmt)    False\n",
       "Target                            False\n",
       "Length: 124, dtype: bool"
      ]
     },
     "execution_count": 4,
     "metadata": {},
     "output_type": "execute_result"
    }
   ],
   "source": [
    "train_data.isnull().sum()>0"
   ]
  },
  {
   "cell_type": "code",
   "execution_count": 5,
   "metadata": {},
   "outputs": [
    {
     "name": "stdout",
     "output_type": "stream",
     "text": [
      "<class 'pandas.core.frame.DataFrame'>\n",
      "RangeIndex: 2540 entries, 0 to 2539\n",
      "Columns: 123 entries, ID to 12_diffSumRefinery intake(kmt)\n",
      "dtypes: float64(120), int64(2), object(1)\n",
      "memory usage: 2.4+ MB\n"
     ]
    }
   ],
   "source": [
    "test_data = pd.read_csv('Oil_test.csv' )\n",
    "test_data.info()"
   ]
  },
  {
   "cell_type": "code",
   "execution_count": 6,
   "metadata": {},
   "outputs": [
    {
     "data": {
      "text/plain": [
       "'import dtale\\nd= dtale.show(data=train_data)\\nd.open_browser() '"
      ]
     },
     "execution_count": 6,
     "metadata": {},
     "output_type": "execute_result"
    }
   ],
   "source": [
    "'''import dtale\n",
    "d= dtale.show(data=train_data)\n",
    "d.open_browser() '''             "
   ]
  },
  {
   "cell_type": "markdown",
   "metadata": {},
   "source": [
    "### For Checking Standard Deviation in all the columns\n",
    "train_data = train_data.drop('ID', axis = 1)\n",
    "\n",
    "drop_cols=[]\n",
    "\n",
    "for cols in train_data.columns:\n",
    "    if train_data[cols].std() == 0:\n",
    "        drop_cols.append(cols)\n",
    "\n",
    "print(\"Number of constant columns to be dropped: \", len(drop_cols))\n",
    "print(drop_cols)"
   ]
  },
  {
   "cell_type": "code",
   "execution_count": 7,
   "metadata": {},
   "outputs": [],
   "source": [
    "train_data.drop_duplicates(keep='first',inplace=True)"
   ]
  },
  {
   "cell_type": "code",
   "execution_count": 8,
   "metadata": {},
   "outputs": [
    {
     "data": {
      "text/plain": [
       "1_diffClosing stocks(kmt)     2.598766\n",
       "1_diffImports(kmt)            1.496259\n",
       "2_diffClosing stocks(kmt)     2.572516\n",
       "2_diffImports(kmt)            1.456884\n",
       "3_diffClosing stocks(kmt)     2.520016\n",
       "3_diffImports(kmt)            1.430634\n",
       "4_diffClosing stocks(kmt)     2.493766\n",
       "4_diffImports(kmt)            1.404384\n",
       "5_diffClosing stocks(kmt)     2.441265\n",
       "5_diffImports(kmt)            1.378134\n",
       "6_diffClosing stocks(kmt)     2.349390\n",
       "6_diffImports(kmt)            1.338758\n",
       "7_diffClosing stocks(kmt)     2.349390\n",
       "7_diffImports(kmt)            1.299383\n",
       "8_diffClosing stocks(kmt)     2.362515\n",
       "8_diffImports(kmt)            1.246883\n",
       "9_diffClosing stocks(kmt)     2.349390\n",
       "9_diffImports(kmt)            1.220633\n",
       "10_diffClosing stocks(kmt)    2.323140\n",
       "10_diffImports(kmt)           1.194382\n",
       "11_diffClosing stocks(kmt)    2.310014\n",
       "11_diffImports(kmt)           1.207508\n",
       "12_diffClosing stocks(kmt)    2.218139\n",
       "12_diffImports(kmt)           1.168132\n",
       "dtype: float64"
      ]
     },
     "execution_count": 8,
     "metadata": {},
     "output_type": "execute_result"
    }
   ],
   "source": [
    "train_data[train_data.columns[train_data.isnull().sum()>0]].isnull().sum()/len(train_data)*100"
   ]
  },
  {
   "cell_type": "code",
   "execution_count": 9,
   "metadata": {},
   "outputs": [],
   "source": [
    "Missingcolumns = train_data[train_data.columns[train_data.isnull().sum()>0]].columns"
   ]
  },
  {
   "cell_type": "code",
   "execution_count": 10,
   "metadata": {},
   "outputs": [],
   "source": [
    "NotMissingcols = set(train_data.columns) - set(Missingcolumns)  "
   ]
  },
  {
   "cell_type": "code",
   "execution_count": 11,
   "metadata": {},
   "outputs": [
    {
     "data": {
      "text/plain": [
       "False"
      ]
     },
     "execution_count": 11,
     "metadata": {},
     "output_type": "execute_result"
    }
   ],
   "source": [
    "train_data[NotMissingcols].isnull().sum().any()"
   ]
  },
  {
   "cell_type": "code",
   "execution_count": 12,
   "metadata": {},
   "outputs": [
    {
     "data": {
      "text/plain": [
       "True"
      ]
     },
     "execution_count": 12,
     "metadata": {},
     "output_type": "execute_result"
    }
   ],
   "source": [
    "train_data[Missingcolumns].isnull().sum().any()"
   ]
  },
  {
   "cell_type": "code",
   "execution_count": 13,
   "metadata": {},
   "outputs": [
    {
     "data": {
      "text/html": [
       "<div>\n",
       "<style scoped>\n",
       "    .dataframe tbody tr th:only-of-type {\n",
       "        vertical-align: middle;\n",
       "    }\n",
       "\n",
       "    .dataframe tbody tr th {\n",
       "        vertical-align: top;\n",
       "    }\n",
       "\n",
       "    .dataframe thead th {\n",
       "        text-align: right;\n",
       "    }\n",
       "</style>\n",
       "<table border=\"1\" class=\"dataframe\">\n",
       "  <thead>\n",
       "    <tr style=\"text-align: right;\">\n",
       "      <th></th>\n",
       "      <th>1_diffClosing stocks(kmt)</th>\n",
       "      <th>1_diffImports(kmt)</th>\n",
       "      <th>2_diffClosing stocks(kmt)</th>\n",
       "      <th>2_diffImports(kmt)</th>\n",
       "      <th>3_diffClosing stocks(kmt)</th>\n",
       "      <th>3_diffImports(kmt)</th>\n",
       "      <th>4_diffClosing stocks(kmt)</th>\n",
       "      <th>4_diffImports(kmt)</th>\n",
       "      <th>5_diffClosing stocks(kmt)</th>\n",
       "      <th>5_diffImports(kmt)</th>\n",
       "      <th>6_diffClosing stocks(kmt)</th>\n",
       "      <th>6_diffImports(kmt)</th>\n",
       "      <th>7_diffClosing stocks(kmt)</th>\n",
       "      <th>7_diffImports(kmt)</th>\n",
       "      <th>8_diffClosing stocks(kmt)</th>\n",
       "      <th>8_diffImports(kmt)</th>\n",
       "      <th>9_diffClosing stocks(kmt)</th>\n",
       "      <th>9_diffImports(kmt)</th>\n",
       "      <th>10_diffClosing stocks(kmt)</th>\n",
       "      <th>10_diffImports(kmt)</th>\n",
       "      <th>11_diffClosing stocks(kmt)</th>\n",
       "      <th>11_diffImports(kmt)</th>\n",
       "      <th>12_diffClosing stocks(kmt)</th>\n",
       "      <th>12_diffImports(kmt)</th>\n",
       "    </tr>\n",
       "  </thead>\n",
       "  <tbody>\n",
       "    <tr>\n",
       "      <th>count</th>\n",
       "      <td>7421.000000</td>\n",
       "      <td>7505.000000</td>\n",
       "      <td>7423.000000</td>\n",
       "      <td>7508.000000</td>\n",
       "      <td>7427.000000</td>\n",
       "      <td>7510.000000</td>\n",
       "      <td>7429.000000</td>\n",
       "      <td>7512.000000</td>\n",
       "      <td>7433.000000</td>\n",
       "      <td>7514.000000</td>\n",
       "      <td>7440.000000</td>\n",
       "      <td>7517.000000</td>\n",
       "      <td>7440.000000</td>\n",
       "      <td>7520.000000</td>\n",
       "      <td>7439.000000</td>\n",
       "      <td>7524.000000</td>\n",
       "      <td>7440.000000</td>\n",
       "      <td>7526.000000</td>\n",
       "      <td>7442.000000</td>\n",
       "      <td>7528.000000</td>\n",
       "      <td>7443.000000</td>\n",
       "      <td>7527.000000</td>\n",
       "      <td>7450.000000</td>\n",
       "      <td>7530.000000</td>\n",
       "    </tr>\n",
       "    <tr>\n",
       "      <th>mean</th>\n",
       "      <td>0.793335</td>\n",
       "      <td>1.806503</td>\n",
       "      <td>10.082052</td>\n",
       "      <td>9.765666</td>\n",
       "      <td>-2.008795</td>\n",
       "      <td>-4.416814</td>\n",
       "      <td>0.300337</td>\n",
       "      <td>2.604665</td>\n",
       "      <td>-4.458383</td>\n",
       "      <td>0.808337</td>\n",
       "      <td>-1.562454</td>\n",
       "      <td>6.095987</td>\n",
       "      <td>-7.354554</td>\n",
       "      <td>1.034920</td>\n",
       "      <td>2.673383</td>\n",
       "      <td>-1.137835</td>\n",
       "      <td>2.383598</td>\n",
       "      <td>5.232503</td>\n",
       "      <td>4.918354</td>\n",
       "      <td>-2.572943</td>\n",
       "      <td>-6.496416</td>\n",
       "      <td>3.151822</td>\n",
       "      <td>-0.398090</td>\n",
       "      <td>0.199018</td>\n",
       "    </tr>\n",
       "    <tr>\n",
       "      <th>std</th>\n",
       "      <td>673.345915</td>\n",
       "      <td>708.792852</td>\n",
       "      <td>625.337681</td>\n",
       "      <td>706.229767</td>\n",
       "      <td>853.887298</td>\n",
       "      <td>687.425761</td>\n",
       "      <td>782.088482</td>\n",
       "      <td>643.409212</td>\n",
       "      <td>854.701926</td>\n",
       "      <td>652.324294</td>\n",
       "      <td>850.928768</td>\n",
       "      <td>709.271945</td>\n",
       "      <td>765.531561</td>\n",
       "      <td>711.056755</td>\n",
       "      <td>765.688632</td>\n",
       "      <td>693.738493</td>\n",
       "      <td>846.480511</td>\n",
       "      <td>705.595079</td>\n",
       "      <td>629.462905</td>\n",
       "      <td>704.301309</td>\n",
       "      <td>849.078351</td>\n",
       "      <td>693.658597</td>\n",
       "      <td>847.618148</td>\n",
       "      <td>640.860631</td>\n",
       "    </tr>\n",
       "    <tr>\n",
       "      <th>min</th>\n",
       "      <td>-39400.000000</td>\n",
       "      <td>-22159.000000</td>\n",
       "      <td>-29600.000000</td>\n",
       "      <td>-22159.000000</td>\n",
       "      <td>-39400.000000</td>\n",
       "      <td>-22159.000000</td>\n",
       "      <td>-39400.000000</td>\n",
       "      <td>-22159.000000</td>\n",
       "      <td>-39400.000000</td>\n",
       "      <td>-12490.000000</td>\n",
       "      <td>-39400.000000</td>\n",
       "      <td>-22159.000000</td>\n",
       "      <td>-39400.000000</td>\n",
       "      <td>-22159.000000</td>\n",
       "      <td>-39400.000000</td>\n",
       "      <td>-22159.000000</td>\n",
       "      <td>-39400.000000</td>\n",
       "      <td>-22159.000000</td>\n",
       "      <td>-31600.000000</td>\n",
       "      <td>-22159.000000</td>\n",
       "      <td>-39400.000000</td>\n",
       "      <td>-22159.000000</td>\n",
       "      <td>-39400.000000</td>\n",
       "      <td>-22159.000000</td>\n",
       "    </tr>\n",
       "    <tr>\n",
       "      <th>25%</th>\n",
       "      <td>-36.000000</td>\n",
       "      <td>-48.000000</td>\n",
       "      <td>-36.436250</td>\n",
       "      <td>-46.868025</td>\n",
       "      <td>-38.000000</td>\n",
       "      <td>-50.529725</td>\n",
       "      <td>-37.994300</td>\n",
       "      <td>-48.020550</td>\n",
       "      <td>-38.000000</td>\n",
       "      <td>-48.082175</td>\n",
       "      <td>-35.057875</td>\n",
       "      <td>-47.534200</td>\n",
       "      <td>-39.000000</td>\n",
       "      <td>-52.000000</td>\n",
       "      <td>-37.000000</td>\n",
       "      <td>-48.219200</td>\n",
       "      <td>-36.000000</td>\n",
       "      <td>-49.245900</td>\n",
       "      <td>-38.000000</td>\n",
       "      <td>-51.000000</td>\n",
       "      <td>-38.000000</td>\n",
       "      <td>-52.000000</td>\n",
       "      <td>-38.000000</td>\n",
       "      <td>-52.000000</td>\n",
       "    </tr>\n",
       "    <tr>\n",
       "      <th>50%</th>\n",
       "      <td>0.000000</td>\n",
       "      <td>0.000000</td>\n",
       "      <td>0.000000</td>\n",
       "      <td>0.000000</td>\n",
       "      <td>0.000000</td>\n",
       "      <td>0.000000</td>\n",
       "      <td>0.000000</td>\n",
       "      <td>0.000000</td>\n",
       "      <td>0.000000</td>\n",
       "      <td>0.000000</td>\n",
       "      <td>0.000000</td>\n",
       "      <td>0.000000</td>\n",
       "      <td>0.000000</td>\n",
       "      <td>0.000000</td>\n",
       "      <td>0.000000</td>\n",
       "      <td>0.000000</td>\n",
       "      <td>0.000000</td>\n",
       "      <td>0.000000</td>\n",
       "      <td>0.000000</td>\n",
       "      <td>0.000000</td>\n",
       "      <td>0.000000</td>\n",
       "      <td>0.000000</td>\n",
       "      <td>0.000000</td>\n",
       "      <td>0.000000</td>\n",
       "    </tr>\n",
       "    <tr>\n",
       "      <th>75%</th>\n",
       "      <td>39.000000</td>\n",
       "      <td>49.000000</td>\n",
       "      <td>40.000000</td>\n",
       "      <td>52.007000</td>\n",
       "      <td>39.000000</td>\n",
       "      <td>49.000000</td>\n",
       "      <td>39.265600</td>\n",
       "      <td>51.000000</td>\n",
       "      <td>41.000000</td>\n",
       "      <td>50.000000</td>\n",
       "      <td>43.000000</td>\n",
       "      <td>52.000000</td>\n",
       "      <td>40.273975</td>\n",
       "      <td>50.000000</td>\n",
       "      <td>43.000000</td>\n",
       "      <td>53.000000</td>\n",
       "      <td>43.000000</td>\n",
       "      <td>52.663375</td>\n",
       "      <td>42.000000</td>\n",
       "      <td>50.082675</td>\n",
       "      <td>40.469600</td>\n",
       "      <td>52.095900</td>\n",
       "      <td>45.000000</td>\n",
       "      <td>52.966100</td>\n",
       "    </tr>\n",
       "    <tr>\n",
       "      <th>max</th>\n",
       "      <td>7525.714300</td>\n",
       "      <td>22021.000000</td>\n",
       "      <td>31600.000000</td>\n",
       "      <td>22021.000000</td>\n",
       "      <td>31600.000000</td>\n",
       "      <td>22021.000000</td>\n",
       "      <td>31600.000000</td>\n",
       "      <td>12277.000000</td>\n",
       "      <td>31600.000000</td>\n",
       "      <td>22021.000000</td>\n",
       "      <td>31600.000000</td>\n",
       "      <td>22021.000000</td>\n",
       "      <td>7525.714300</td>\n",
       "      <td>22021.000000</td>\n",
       "      <td>31600.000000</td>\n",
       "      <td>22021.000000</td>\n",
       "      <td>31600.000000</td>\n",
       "      <td>22021.000000</td>\n",
       "      <td>31600.000000</td>\n",
       "      <td>22021.000000</td>\n",
       "      <td>31600.000000</td>\n",
       "      <td>22021.000000</td>\n",
       "      <td>31600.000000</td>\n",
       "      <td>12277.000000</td>\n",
       "    </tr>\n",
       "  </tbody>\n",
       "</table>\n",
       "</div>"
      ],
      "text/plain": [
       "       1_diffClosing stocks(kmt)  1_diffImports(kmt)  \\\n",
       "count                7421.000000         7505.000000   \n",
       "mean                    0.793335            1.806503   \n",
       "std                   673.345915          708.792852   \n",
       "min                -39400.000000       -22159.000000   \n",
       "25%                   -36.000000          -48.000000   \n",
       "50%                     0.000000            0.000000   \n",
       "75%                    39.000000           49.000000   \n",
       "max                  7525.714300        22021.000000   \n",
       "\n",
       "       2_diffClosing stocks(kmt)  2_diffImports(kmt)  \\\n",
       "count                7423.000000         7508.000000   \n",
       "mean                   10.082052            9.765666   \n",
       "std                   625.337681          706.229767   \n",
       "min                -29600.000000       -22159.000000   \n",
       "25%                   -36.436250          -46.868025   \n",
       "50%                     0.000000            0.000000   \n",
       "75%                    40.000000           52.007000   \n",
       "max                 31600.000000        22021.000000   \n",
       "\n",
       "       3_diffClosing stocks(kmt)  3_diffImports(kmt)  \\\n",
       "count                7427.000000         7510.000000   \n",
       "mean                   -2.008795           -4.416814   \n",
       "std                   853.887298          687.425761   \n",
       "min                -39400.000000       -22159.000000   \n",
       "25%                   -38.000000          -50.529725   \n",
       "50%                     0.000000            0.000000   \n",
       "75%                    39.000000           49.000000   \n",
       "max                 31600.000000        22021.000000   \n",
       "\n",
       "       4_diffClosing stocks(kmt)  4_diffImports(kmt)  \\\n",
       "count                7429.000000         7512.000000   \n",
       "mean                    0.300337            2.604665   \n",
       "std                   782.088482          643.409212   \n",
       "min                -39400.000000       -22159.000000   \n",
       "25%                   -37.994300          -48.020550   \n",
       "50%                     0.000000            0.000000   \n",
       "75%                    39.265600           51.000000   \n",
       "max                 31600.000000        12277.000000   \n",
       "\n",
       "       5_diffClosing stocks(kmt)  5_diffImports(kmt)  \\\n",
       "count                7433.000000         7514.000000   \n",
       "mean                   -4.458383            0.808337   \n",
       "std                   854.701926          652.324294   \n",
       "min                -39400.000000       -12490.000000   \n",
       "25%                   -38.000000          -48.082175   \n",
       "50%                     0.000000            0.000000   \n",
       "75%                    41.000000           50.000000   \n",
       "max                 31600.000000        22021.000000   \n",
       "\n",
       "       6_diffClosing stocks(kmt)  6_diffImports(kmt)  \\\n",
       "count                7440.000000         7517.000000   \n",
       "mean                   -1.562454            6.095987   \n",
       "std                   850.928768          709.271945   \n",
       "min                -39400.000000       -22159.000000   \n",
       "25%                   -35.057875          -47.534200   \n",
       "50%                     0.000000            0.000000   \n",
       "75%                    43.000000           52.000000   \n",
       "max                 31600.000000        22021.000000   \n",
       "\n",
       "       7_diffClosing stocks(kmt)  7_diffImports(kmt)  \\\n",
       "count                7440.000000         7520.000000   \n",
       "mean                   -7.354554            1.034920   \n",
       "std                   765.531561          711.056755   \n",
       "min                -39400.000000       -22159.000000   \n",
       "25%                   -39.000000          -52.000000   \n",
       "50%                     0.000000            0.000000   \n",
       "75%                    40.273975           50.000000   \n",
       "max                  7525.714300        22021.000000   \n",
       "\n",
       "       8_diffClosing stocks(kmt)  8_diffImports(kmt)  \\\n",
       "count                7439.000000         7524.000000   \n",
       "mean                    2.673383           -1.137835   \n",
       "std                   765.688632          693.738493   \n",
       "min                -39400.000000       -22159.000000   \n",
       "25%                   -37.000000          -48.219200   \n",
       "50%                     0.000000            0.000000   \n",
       "75%                    43.000000           53.000000   \n",
       "max                 31600.000000        22021.000000   \n",
       "\n",
       "       9_diffClosing stocks(kmt)  9_diffImports(kmt)  \\\n",
       "count                7440.000000         7526.000000   \n",
       "mean                    2.383598            5.232503   \n",
       "std                   846.480511          705.595079   \n",
       "min                -39400.000000       -22159.000000   \n",
       "25%                   -36.000000          -49.245900   \n",
       "50%                     0.000000            0.000000   \n",
       "75%                    43.000000           52.663375   \n",
       "max                 31600.000000        22021.000000   \n",
       "\n",
       "       10_diffClosing stocks(kmt)  10_diffImports(kmt)  \\\n",
       "count                 7442.000000          7528.000000   \n",
       "mean                     4.918354            -2.572943   \n",
       "std                    629.462905           704.301309   \n",
       "min                 -31600.000000        -22159.000000   \n",
       "25%                    -38.000000           -51.000000   \n",
       "50%                      0.000000             0.000000   \n",
       "75%                     42.000000            50.082675   \n",
       "max                  31600.000000         22021.000000   \n",
       "\n",
       "       11_diffClosing stocks(kmt)  11_diffImports(kmt)  \\\n",
       "count                 7443.000000          7527.000000   \n",
       "mean                    -6.496416             3.151822   \n",
       "std                    849.078351           693.658597   \n",
       "min                 -39400.000000        -22159.000000   \n",
       "25%                    -38.000000           -52.000000   \n",
       "50%                      0.000000             0.000000   \n",
       "75%                     40.469600            52.095900   \n",
       "max                  31600.000000         22021.000000   \n",
       "\n",
       "       12_diffClosing stocks(kmt)  12_diffImports(kmt)  \n",
       "count                 7450.000000          7530.000000  \n",
       "mean                    -0.398090             0.199018  \n",
       "std                    847.618148           640.860631  \n",
       "min                 -39400.000000        -22159.000000  \n",
       "25%                    -38.000000           -52.000000  \n",
       "50%                      0.000000             0.000000  \n",
       "75%                     45.000000            52.966100  \n",
       "max                  31600.000000         12277.000000  "
      ]
     },
     "execution_count": 13,
     "metadata": {},
     "output_type": "execute_result"
    }
   ],
   "source": [
    "pd.set_option('display.max_columns', 500)\n",
    "train_data[Missingcolumns].describe()"
   ]
  },
  {
   "cell_type": "code",
   "execution_count": 14,
   "metadata": {},
   "outputs": [],
   "source": [
    "# We need to replace the data with median, since this columns are not normally distributed\n"
   ]
  },
  {
   "cell_type": "code",
   "execution_count": 15,
   "metadata": {},
   "outputs": [],
   "source": [
    "for cols in Missingcolumns:\n",
    "    train_data[cols].fillna(train_data[cols].median(),inplace=True)"
   ]
  },
  {
   "cell_type": "code",
   "execution_count": 16,
   "metadata": {},
   "outputs": [
    {
     "data": {
      "text/html": [
       "<div>\n",
       "<style scoped>\n",
       "    .dataframe tbody tr th:only-of-type {\n",
       "        vertical-align: middle;\n",
       "    }\n",
       "\n",
       "    .dataframe tbody tr th {\n",
       "        vertical-align: top;\n",
       "    }\n",
       "\n",
       "    .dataframe thead th {\n",
       "        text-align: right;\n",
       "    }\n",
       "</style>\n",
       "<table border=\"1\" class=\"dataframe\">\n",
       "  <thead>\n",
       "    <tr style=\"text-align: right;\">\n",
       "      <th></th>\n",
       "      <th>1_diffClosing stocks(kmt)</th>\n",
       "      <th>1_diffImports(kmt)</th>\n",
       "      <th>2_diffClosing stocks(kmt)</th>\n",
       "      <th>2_diffImports(kmt)</th>\n",
       "      <th>3_diffClosing stocks(kmt)</th>\n",
       "      <th>3_diffImports(kmt)</th>\n",
       "      <th>4_diffClosing stocks(kmt)</th>\n",
       "      <th>4_diffImports(kmt)</th>\n",
       "      <th>5_diffClosing stocks(kmt)</th>\n",
       "      <th>5_diffImports(kmt)</th>\n",
       "      <th>6_diffClosing stocks(kmt)</th>\n",
       "      <th>6_diffImports(kmt)</th>\n",
       "      <th>7_diffClosing stocks(kmt)</th>\n",
       "      <th>7_diffImports(kmt)</th>\n",
       "      <th>8_diffClosing stocks(kmt)</th>\n",
       "      <th>8_diffImports(kmt)</th>\n",
       "      <th>9_diffClosing stocks(kmt)</th>\n",
       "      <th>9_diffImports(kmt)</th>\n",
       "      <th>10_diffClosing stocks(kmt)</th>\n",
       "      <th>10_diffImports(kmt)</th>\n",
       "      <th>11_diffClosing stocks(kmt)</th>\n",
       "      <th>11_diffImports(kmt)</th>\n",
       "      <th>12_diffClosing stocks(kmt)</th>\n",
       "      <th>12_diffImports(kmt)</th>\n",
       "    </tr>\n",
       "  </thead>\n",
       "  <tbody>\n",
       "    <tr>\n",
       "      <th>count</th>\n",
       "      <td>7619.000000</td>\n",
       "      <td>7619.000000</td>\n",
       "      <td>7619.000000</td>\n",
       "      <td>7619.000000</td>\n",
       "      <td>7619.000000</td>\n",
       "      <td>7619.000000</td>\n",
       "      <td>7619.000000</td>\n",
       "      <td>7619.000000</td>\n",
       "      <td>7619.000000</td>\n",
       "      <td>7619.000000</td>\n",
       "      <td>7619.000000</td>\n",
       "      <td>7619.000000</td>\n",
       "      <td>7619.000000</td>\n",
       "      <td>7619.000000</td>\n",
       "      <td>7619.000000</td>\n",
       "      <td>7619.000000</td>\n",
       "      <td>7619.000000</td>\n",
       "      <td>7619.000000</td>\n",
       "      <td>7619.000000</td>\n",
       "      <td>7619.000000</td>\n",
       "      <td>7619.000000</td>\n",
       "      <td>7619.000000</td>\n",
       "      <td>7619.000000</td>\n",
       "      <td>7619.000000</td>\n",
       "    </tr>\n",
       "    <tr>\n",
       "      <th>mean</th>\n",
       "      <td>0.772718</td>\n",
       "      <td>1.779474</td>\n",
       "      <td>9.822690</td>\n",
       "      <td>9.623391</td>\n",
       "      <td>-1.958173</td>\n",
       "      <td>-4.353625</td>\n",
       "      <td>0.292847</td>\n",
       "      <td>2.568085</td>\n",
       "      <td>-4.349542</td>\n",
       "      <td>0.797197</td>\n",
       "      <td>-1.525746</td>\n",
       "      <td>6.014376</td>\n",
       "      <td>-7.181767</td>\n",
       "      <td>1.021473</td>\n",
       "      <td>2.610224</td>\n",
       "      <td>-1.123648</td>\n",
       "      <td>2.327598</td>\n",
       "      <td>5.168633</td>\n",
       "      <td>4.804094</td>\n",
       "      <td>-2.542212</td>\n",
       "      <td>-6.346348</td>\n",
       "      <td>3.113764</td>\n",
       "      <td>-0.389260</td>\n",
       "      <td>0.196693</td>\n",
       "    </tr>\n",
       "    <tr>\n",
       "      <th>std</th>\n",
       "      <td>664.537825</td>\n",
       "      <td>703.469510</td>\n",
       "      <td>617.242813</td>\n",
       "      <td>701.066714</td>\n",
       "      <td>843.058229</td>\n",
       "      <td>682.490325</td>\n",
       "      <td>772.273894</td>\n",
       "      <td>638.874746</td>\n",
       "      <td>844.203588</td>\n",
       "      <td>647.813162</td>\n",
       "      <td>840.872247</td>\n",
       "      <td>704.507950</td>\n",
       "      <td>756.485080</td>\n",
       "      <td>706.421374</td>\n",
       "      <td>756.588724</td>\n",
       "      <td>689.399314</td>\n",
       "      <td>836.476605</td>\n",
       "      <td>701.275162</td>\n",
       "      <td>622.107759</td>\n",
       "      <td>700.082149</td>\n",
       "      <td>839.213401</td>\n",
       "      <td>689.457420</td>\n",
       "      <td>838.163513</td>\n",
       "      <td>637.106092</td>\n",
       "    </tr>\n",
       "    <tr>\n",
       "      <th>min</th>\n",
       "      <td>-39400.000000</td>\n",
       "      <td>-22159.000000</td>\n",
       "      <td>-29600.000000</td>\n",
       "      <td>-22159.000000</td>\n",
       "      <td>-39400.000000</td>\n",
       "      <td>-22159.000000</td>\n",
       "      <td>-39400.000000</td>\n",
       "      <td>-22159.000000</td>\n",
       "      <td>-39400.000000</td>\n",
       "      <td>-12490.000000</td>\n",
       "      <td>-39400.000000</td>\n",
       "      <td>-22159.000000</td>\n",
       "      <td>-39400.000000</td>\n",
       "      <td>-22159.000000</td>\n",
       "      <td>-39400.000000</td>\n",
       "      <td>-22159.000000</td>\n",
       "      <td>-39400.000000</td>\n",
       "      <td>-22159.000000</td>\n",
       "      <td>-31600.000000</td>\n",
       "      <td>-22159.000000</td>\n",
       "      <td>-39400.000000</td>\n",
       "      <td>-22159.000000</td>\n",
       "      <td>-39400.000000</td>\n",
       "      <td>-22159.000000</td>\n",
       "    </tr>\n",
       "    <tr>\n",
       "      <th>25%</th>\n",
       "      <td>-32.000000</td>\n",
       "      <td>-46.000000</td>\n",
       "      <td>-33.000000</td>\n",
       "      <td>-45.000000</td>\n",
       "      <td>-34.000000</td>\n",
       "      <td>-48.041100</td>\n",
       "      <td>-34.000000</td>\n",
       "      <td>-46.000000</td>\n",
       "      <td>-34.606500</td>\n",
       "      <td>-46.792500</td>\n",
       "      <td>-32.982200</td>\n",
       "      <td>-46.000000</td>\n",
       "      <td>-35.615750</td>\n",
       "      <td>-50.000000</td>\n",
       "      <td>-33.399250</td>\n",
       "      <td>-46.285000</td>\n",
       "      <td>-33.000000</td>\n",
       "      <td>-47.628250</td>\n",
       "      <td>-35.000000</td>\n",
       "      <td>-49.000000</td>\n",
       "      <td>-35.000000</td>\n",
       "      <td>-50.000000</td>\n",
       "      <td>-34.979150</td>\n",
       "      <td>-50.000000</td>\n",
       "    </tr>\n",
       "    <tr>\n",
       "      <th>50%</th>\n",
       "      <td>0.000000</td>\n",
       "      <td>0.000000</td>\n",
       "      <td>0.000000</td>\n",
       "      <td>0.000000</td>\n",
       "      <td>0.000000</td>\n",
       "      <td>0.000000</td>\n",
       "      <td>0.000000</td>\n",
       "      <td>0.000000</td>\n",
       "      <td>0.000000</td>\n",
       "      <td>0.000000</td>\n",
       "      <td>0.000000</td>\n",
       "      <td>0.000000</td>\n",
       "      <td>0.000000</td>\n",
       "      <td>0.000000</td>\n",
       "      <td>0.000000</td>\n",
       "      <td>0.000000</td>\n",
       "      <td>0.000000</td>\n",
       "      <td>0.000000</td>\n",
       "      <td>0.000000</td>\n",
       "      <td>0.000000</td>\n",
       "      <td>0.000000</td>\n",
       "      <td>0.000000</td>\n",
       "      <td>0.000000</td>\n",
       "      <td>0.000000</td>\n",
       "    </tr>\n",
       "    <tr>\n",
       "      <th>75%</th>\n",
       "      <td>36.000000</td>\n",
       "      <td>47.000000</td>\n",
       "      <td>37.000000</td>\n",
       "      <td>50.000000</td>\n",
       "      <td>35.559600</td>\n",
       "      <td>47.000000</td>\n",
       "      <td>36.745000</td>\n",
       "      <td>49.000000</td>\n",
       "      <td>38.000000</td>\n",
       "      <td>48.000000</td>\n",
       "      <td>40.000000</td>\n",
       "      <td>49.000000</td>\n",
       "      <td>38.000000</td>\n",
       "      <td>48.000000</td>\n",
       "      <td>40.000000</td>\n",
       "      <td>52.000000</td>\n",
       "      <td>40.000000</td>\n",
       "      <td>50.000000</td>\n",
       "      <td>39.000000</td>\n",
       "      <td>48.052400</td>\n",
       "      <td>38.000000</td>\n",
       "      <td>50.000000</td>\n",
       "      <td>42.000000</td>\n",
       "      <td>50.775750</td>\n",
       "    </tr>\n",
       "    <tr>\n",
       "      <th>max</th>\n",
       "      <td>7525.714300</td>\n",
       "      <td>22021.000000</td>\n",
       "      <td>31600.000000</td>\n",
       "      <td>22021.000000</td>\n",
       "      <td>31600.000000</td>\n",
       "      <td>22021.000000</td>\n",
       "      <td>31600.000000</td>\n",
       "      <td>12277.000000</td>\n",
       "      <td>31600.000000</td>\n",
       "      <td>22021.000000</td>\n",
       "      <td>31600.000000</td>\n",
       "      <td>22021.000000</td>\n",
       "      <td>7525.714300</td>\n",
       "      <td>22021.000000</td>\n",
       "      <td>31600.000000</td>\n",
       "      <td>22021.000000</td>\n",
       "      <td>31600.000000</td>\n",
       "      <td>22021.000000</td>\n",
       "      <td>31600.000000</td>\n",
       "      <td>22021.000000</td>\n",
       "      <td>31600.000000</td>\n",
       "      <td>22021.000000</td>\n",
       "      <td>31600.000000</td>\n",
       "      <td>12277.000000</td>\n",
       "    </tr>\n",
       "  </tbody>\n",
       "</table>\n",
       "</div>"
      ],
      "text/plain": [
       "       1_diffClosing stocks(kmt)  1_diffImports(kmt)  \\\n",
       "count                7619.000000         7619.000000   \n",
       "mean                    0.772718            1.779474   \n",
       "std                   664.537825          703.469510   \n",
       "min                -39400.000000       -22159.000000   \n",
       "25%                   -32.000000          -46.000000   \n",
       "50%                     0.000000            0.000000   \n",
       "75%                    36.000000           47.000000   \n",
       "max                  7525.714300        22021.000000   \n",
       "\n",
       "       2_diffClosing stocks(kmt)  2_diffImports(kmt)  \\\n",
       "count                7619.000000         7619.000000   \n",
       "mean                    9.822690            9.623391   \n",
       "std                   617.242813          701.066714   \n",
       "min                -29600.000000       -22159.000000   \n",
       "25%                   -33.000000          -45.000000   \n",
       "50%                     0.000000            0.000000   \n",
       "75%                    37.000000           50.000000   \n",
       "max                 31600.000000        22021.000000   \n",
       "\n",
       "       3_diffClosing stocks(kmt)  3_diffImports(kmt)  \\\n",
       "count                7619.000000         7619.000000   \n",
       "mean                   -1.958173           -4.353625   \n",
       "std                   843.058229          682.490325   \n",
       "min                -39400.000000       -22159.000000   \n",
       "25%                   -34.000000          -48.041100   \n",
       "50%                     0.000000            0.000000   \n",
       "75%                    35.559600           47.000000   \n",
       "max                 31600.000000        22021.000000   \n",
       "\n",
       "       4_diffClosing stocks(kmt)  4_diffImports(kmt)  \\\n",
       "count                7619.000000         7619.000000   \n",
       "mean                    0.292847            2.568085   \n",
       "std                   772.273894          638.874746   \n",
       "min                -39400.000000       -22159.000000   \n",
       "25%                   -34.000000          -46.000000   \n",
       "50%                     0.000000            0.000000   \n",
       "75%                    36.745000           49.000000   \n",
       "max                 31600.000000        12277.000000   \n",
       "\n",
       "       5_diffClosing stocks(kmt)  5_diffImports(kmt)  \\\n",
       "count                7619.000000         7619.000000   \n",
       "mean                   -4.349542            0.797197   \n",
       "std                   844.203588          647.813162   \n",
       "min                -39400.000000       -12490.000000   \n",
       "25%                   -34.606500          -46.792500   \n",
       "50%                     0.000000            0.000000   \n",
       "75%                    38.000000           48.000000   \n",
       "max                 31600.000000        22021.000000   \n",
       "\n",
       "       6_diffClosing stocks(kmt)  6_diffImports(kmt)  \\\n",
       "count                7619.000000         7619.000000   \n",
       "mean                   -1.525746            6.014376   \n",
       "std                   840.872247          704.507950   \n",
       "min                -39400.000000       -22159.000000   \n",
       "25%                   -32.982200          -46.000000   \n",
       "50%                     0.000000            0.000000   \n",
       "75%                    40.000000           49.000000   \n",
       "max                 31600.000000        22021.000000   \n",
       "\n",
       "       7_diffClosing stocks(kmt)  7_diffImports(kmt)  \\\n",
       "count                7619.000000         7619.000000   \n",
       "mean                   -7.181767            1.021473   \n",
       "std                   756.485080          706.421374   \n",
       "min                -39400.000000       -22159.000000   \n",
       "25%                   -35.615750          -50.000000   \n",
       "50%                     0.000000            0.000000   \n",
       "75%                    38.000000           48.000000   \n",
       "max                  7525.714300        22021.000000   \n",
       "\n",
       "       8_diffClosing stocks(kmt)  8_diffImports(kmt)  \\\n",
       "count                7619.000000         7619.000000   \n",
       "mean                    2.610224           -1.123648   \n",
       "std                   756.588724          689.399314   \n",
       "min                -39400.000000       -22159.000000   \n",
       "25%                   -33.399250          -46.285000   \n",
       "50%                     0.000000            0.000000   \n",
       "75%                    40.000000           52.000000   \n",
       "max                 31600.000000        22021.000000   \n",
       "\n",
       "       9_diffClosing stocks(kmt)  9_diffImports(kmt)  \\\n",
       "count                7619.000000         7619.000000   \n",
       "mean                    2.327598            5.168633   \n",
       "std                   836.476605          701.275162   \n",
       "min                -39400.000000       -22159.000000   \n",
       "25%                   -33.000000          -47.628250   \n",
       "50%                     0.000000            0.000000   \n",
       "75%                    40.000000           50.000000   \n",
       "max                 31600.000000        22021.000000   \n",
       "\n",
       "       10_diffClosing stocks(kmt)  10_diffImports(kmt)  \\\n",
       "count                 7619.000000          7619.000000   \n",
       "mean                     4.804094            -2.542212   \n",
       "std                    622.107759           700.082149   \n",
       "min                 -31600.000000        -22159.000000   \n",
       "25%                    -35.000000           -49.000000   \n",
       "50%                      0.000000             0.000000   \n",
       "75%                     39.000000            48.052400   \n",
       "max                  31600.000000         22021.000000   \n",
       "\n",
       "       11_diffClosing stocks(kmt)  11_diffImports(kmt)  \\\n",
       "count                 7619.000000          7619.000000   \n",
       "mean                    -6.346348             3.113764   \n",
       "std                    839.213401           689.457420   \n",
       "min                 -39400.000000        -22159.000000   \n",
       "25%                    -35.000000           -50.000000   \n",
       "50%                      0.000000             0.000000   \n",
       "75%                     38.000000            50.000000   \n",
       "max                  31600.000000         22021.000000   \n",
       "\n",
       "       12_diffClosing stocks(kmt)  12_diffImports(kmt)  \n",
       "count                 7619.000000          7619.000000  \n",
       "mean                    -0.389260             0.196693  \n",
       "std                    838.163513           637.106092  \n",
       "min                 -39400.000000        -22159.000000  \n",
       "25%                    -34.979150           -50.000000  \n",
       "50%                      0.000000             0.000000  \n",
       "75%                     42.000000            50.775750  \n",
       "max                  31600.000000         12277.000000  "
      ]
     },
     "execution_count": 16,
     "metadata": {},
     "output_type": "execute_result"
    }
   ],
   "source": [
    "train_data[Missingcolumns].describe()"
   ]
  },
  {
   "cell_type": "code",
   "execution_count": 17,
   "metadata": {},
   "outputs": [
    {
     "data": {
      "text/plain": [
       "0    65.428534\n",
       "1    34.571466\n",
       "Name: Target, dtype: float64"
      ]
     },
     "execution_count": 17,
     "metadata": {},
     "output_type": "execute_result"
    }
   ],
   "source": [
    "train_data.Target.value_counts()/len(train_data)*100"
   ]
  },
  {
   "cell_type": "code",
   "execution_count": 24,
   "metadata": {},
   "outputs": [],
   "source": [
    "X= train_data.drop(['Target','ID'],axis=1)\n",
    "y=train_data['Target']"
   ]
  },
  {
   "cell_type": "code",
   "execution_count": 25,
   "metadata": {},
   "outputs": [
    {
     "name": "stdout",
     "output_type": "stream",
     "text": [
      "(6095, 122) (6095,) (1524, 122) (1524,)\n"
     ]
    }
   ],
   "source": [
    "X_train,X_test,y_train,y_test = train_test_split(X,y,test_size=0.2,random_state=50,stratify=y)\n",
    "print(X_train.shape,y_train.shape,X_test.shape,y_test.shape)"
   ]
  },
  {
   "cell_type": "markdown",
   "metadata": {},
   "source": [
    "## Model1 - Logistic Regression"
   ]
  },
  {
   "cell_type": "code",
   "execution_count": 43,
   "metadata": {},
   "outputs": [
    {
     "name": "stdout",
     "output_type": "stream",
     "text": [
      "0.5567644276253548\n",
      "0.542502387774594\n",
      "[0.53395785 0.51415094 0.54587156 0.55079007 0.55474453 0.52195122\n",
      " 0.52380952 0.5412844  0.53753027 0.54368932]\n",
      "0.5367779675453663\n"
     ]
    }
   ],
   "source": [
    "LogReg = LogisticRegression()\n",
    "LogReg.fit(X_train,y_train)\n",
    "P_Train = LogReg.predict(X_train)\n",
    "P_Test = LogReg.predict(X_test)\n",
    "print(f1_score(y_train,P_Train))\n",
    "print(f1_score(y_test,P_Test))\n",
    "Log_CVal = cross_val_score(estimator=LogReg,cv=10,X=X_train,y=y_train,scoring='f1')\n",
    "print(Log_CVal)\n",
    "print(np.mean(Log_CVal))"
   ]
  },
  {
   "cell_type": "markdown",
   "metadata": {},
   "source": [
    "## Model 2 - Decision Tree Classifier"
   ]
  },
  {
   "cell_type": "code",
   "execution_count": 53,
   "metadata": {},
   "outputs": [
    {
     "name": "stdout",
     "output_type": "stream",
     "text": [
      "1.0\n",
      "0.4858757062146893\n",
      "[0.52195122 0.48258706 0.53460621 0.50717703 0.49074074 0.48979592\n",
      " 0.49514563 0.52516411 0.53623188 0.51954023]\n",
      "0.5102940040836866\n"
     ]
    }
   ],
   "source": [
    "DT = DecisionTreeClassifier()\n",
    "DT.fit(X_train,y_train)\n",
    "D_Train = DT.predict(X_train)\n",
    "D_Test = DT.predict(X_test)\n",
    "print(f1_score(y_train,D_Train))\n",
    "print(f1_score(y_test,D_Test))\n",
    "DT_CVal = cross_val_score(estimator=DT,cv=10,X=X_train,y=y_train,scoring='f1')\n",
    "print(DT_CVal)\n",
    "print(np.mean(DT_CVal))\n",
    "\n"
   ]
  },
  {
   "cell_type": "markdown",
   "metadata": {},
   "source": [
    "## Model 2.1 - Decision Tree Classifier using GSCV"
   ]
  },
  {
   "cell_type": "code",
   "execution_count": 64,
   "metadata": {},
   "outputs": [
    {
     "data": {
      "text/plain": [
       "GridSearchCV(cv=10, estimator=DecisionTreeClassifier(),\n",
       "             param_grid={'max_depth': [1, 2, 3, 4, 5, 6, 7, 8, 9, 10, 11, 12,\n",
       "                                       13, 14]},\n",
       "             scoring='f1')"
      ]
     },
     "execution_count": 64,
     "metadata": {},
     "output_type": "execute_result"
    }
   ],
   "source": [
    "DT1 = DecisionTreeClassifier()\n",
    "grid = GridSearchCV(estimator=DT1, cv=10, scoring='f1',param_grid=dict(max_depth=[1,2,3,4,5,6,7,8,9,10,11,12,13,14]))\n",
    "grid.fit(X_train,y_train)\n"
   ]
  },
  {
   "cell_type": "markdown",
   "metadata": {},
   "source": [
    "## Model 3 - Random Forest Classifier"
   ]
  },
  {
   "cell_type": "code",
   "execution_count": 66,
   "metadata": {},
   "outputs": [
    {
     "name": "stdout",
     "output_type": "stream",
     "text": [
      "0.9997626394493234\n",
      "0.5958378970427163\n",
      "[0.56910569 0.55270655 0.58760108 0.58221024 0.5480226  0.55096419\n",
      " 0.51014493 0.61917808 0.62433862 0.6084507 ]\n",
      "0.575272268900805\n"
     ]
    }
   ],
   "source": [
    "RF = RandomForestClassifier()\n",
    "RF.fit(X_train,y_train)\n",
    "R_Train = RF.predict(X_train)\n",
    "R_Test = RF.predict(X_test)\n",
    "print(f1_score(y_train,R_Train))\n",
    "print(f1_score(y_test,R_Test))\n",
    "RF_CVal = cross_val_score(estimator=RF,cv=10,X=X_train,y=y_train,scoring='f1')\n",
    "print(RF_CVal)\n",
    "print(np.mean(RF_CVal))"
   ]
  },
  {
   "cell_type": "markdown",
   "metadata": {},
   "source": [
    "## Model 3.1 - Random Forest Classifier using GSV"
   ]
  },
  {
   "cell_type": "code",
   "execution_count": 68,
   "metadata": {},
   "outputs": [
    {
     "data": {
      "text/plain": [
       "GridSearchCV(cv=10, estimator=RandomForestClassifier(),\n",
       "             param_grid={'n_estimators': array([  1,  21,  41,  61,  81, 101, 121, 141, 161, 181])},\n",
       "             scoring='f1')"
      ]
     },
     "execution_count": 68,
     "metadata": {},
     "output_type": "execute_result"
    }
   ],
   "source": [
    "RF1 = RandomForestClassifier()\n",
    "a=np.arange(1,200,20)\n",
    "GSV2 = GridSearchCV(estimator=RF1, scoring='f1',cv=10,param_grid = dict(n_estimators=a))\n",
    "GSV2.fit(X_train,y_train)"
   ]
  },
  {
   "cell_type": "code",
   "execution_count": 70,
   "metadata": {},
   "outputs": [
    {
     "data": {
      "text/plain": [
       "0.5838555563819121"
      ]
     },
     "execution_count": 70,
     "metadata": {},
     "output_type": "execute_result"
    }
   ],
   "source": [
    "GSV2.best_score_"
   ]
  },
  {
   "cell_type": "code",
   "execution_count": 115,
   "metadata": {},
   "outputs": [
    {
     "name": "stdout",
     "output_type": "stream",
     "text": [
      "1.0\n",
      "0.5585168018539975\n",
      "[0.53824363 0.5060241  0.5698324  0.57541899 0.5        0.52421652\n",
      " 0.51785714 0.61408451 0.62258953 0.61095101]\n",
      "0.5579217833537804\n",
      "1.0\n",
      "0.75\n"
     ]
    }
   ],
   "source": [
    "RF = RandomForestClassifier(n_estimators=141,class_weight='balanced')\n",
    "RF.fit(X_train,y_train)\n",
    "R_Train = RF.predict(X_train)\n",
    "R_Test = RF.predict(X_test)\n",
    "print(f1_score(y_train,R_Train))\n",
    "print(f1_score(y_test,R_Test))\n",
    "RF_CVal = cross_val_score(estimator=RF,cv=10,X=X_train,y=y_train,scoring='f1')\n",
    "print(RF_CVal)\n",
    "print(np.mean(RF_CVal))\n",
    "print(accuracy_score(y_train,R_Train))\n",
    "print(accuracy_score(y_test,R_Test))\n"
   ]
  },
  {
   "cell_type": "markdown",
   "metadata": {},
   "source": [
    "## Model 4 - Ada Boostclassifer"
   ]
  },
  {
   "cell_type": "code",
   "execution_count": 114,
   "metadata": {},
   "outputs": [
    {
     "name": "stdout",
     "output_type": "stream",
     "text": [
      "0.5764400173235167\n",
      "0.5666372462488967\n",
      "[0.56896552 0.56762749 0.58872651 0.58577406 0.5619469  0.54424779\n",
      " 0.57709251 0.59784946 0.57634409 0.59388646]\n",
      "0.576246079639338\n"
     ]
    }
   ],
   "source": [
    "AD = AdaBoostClassifier(n_estimators=1)\n",
    "AD.fit(X_train,y_train)\n",
    "AD_Train = AD.predict(X_train)\n",
    "AD_Test = AD.predict(X_test)\n",
    "print(f1_score(y_train,AD_Train))\n",
    "print(f1_score(y_test,AD_Test))\n",
    "AD_CVal = cross_val_score(estimator=AD,cv=10,X=X_train,y=y_train,scoring='f1')\n",
    "print(AD_CVal)\n",
    "print(np.mean(AD_CVal))"
   ]
  },
  {
   "cell_type": "markdown",
   "metadata": {},
   "source": [
    "## Model 4.1 - Ada Boostclassifer using GSCV"
   ]
  },
  {
   "cell_type": "code",
   "execution_count": 73,
   "metadata": {},
   "outputs": [
    {
     "data": {
      "text/plain": [
       "GridSearchCV(cv=10, estimator=AdaBoostClassifier(),\n",
       "             param_grid={'n_estimators': array([  1,  21,  41,  61,  81, 101, 121, 141, 161, 181])},\n",
       "             scoring='f1')"
      ]
     },
     "execution_count": 73,
     "metadata": {},
     "output_type": "execute_result"
    }
   ],
   "source": [
    "AD1 = AdaBoostClassifier()\n",
    "a=np.arange(1,200,20)\n",
    "GSV3 = GridSearchCV(estimator=AD1, scoring='f1',cv=10,param_grid = dict(n_estimators=a))\n",
    "GSV3.fit(X_train,y_train)"
   ]
  },
  {
   "cell_type": "code",
   "execution_count": 113,
   "metadata": {},
   "outputs": [
    {
     "data": {
      "text/plain": [
       "{'n_estimators': 1}"
      ]
     },
     "execution_count": 113,
     "metadata": {},
     "output_type": "execute_result"
    }
   ],
   "source": [
    "GSV3.best_params_\n",
    "#GSV3.best_score_"
   ]
  },
  {
   "cell_type": "markdown",
   "metadata": {},
   "source": [
    "## Model 5 - Gradient Boosting Classifier"
   ]
  },
  {
   "cell_type": "code",
   "execution_count": 80,
   "metadata": {},
   "outputs": [
    {
     "name": "stdout",
     "output_type": "stream",
     "text": [
      "0.6415094339622641\n",
      "0.5743473325766176\n",
      "[0.53295129 0.54022989 0.58918919 0.56353591 0.54913295 0.52542373\n",
      " 0.53254438 0.62222222 0.61081081 0.62464183]\n",
      "0.5690682197579735\n"
     ]
    }
   ],
   "source": [
    "GB = GradientBoostingClassifier()\n",
    "GB.fit(X_train,y_train)\n",
    "GB_Train = GB.predict(X_train)\n",
    "GB_Test = GB.predict(X_test)\n",
    "print(f1_score(y_train,GB_Train))\n",
    "print(f1_score(y_test,GB_Test))\n",
    "GB_CVal = cross_val_score(estimator=GB,cv=10,X=X_train,y=y_train,scoring='f1')\n",
    "print(GB_CVal)\n",
    "print(np.mean(GB_CVal))"
   ]
  },
  {
   "cell_type": "markdown",
   "metadata": {},
   "source": [
    "## Model 5.1 - Gradient Classifier using GSCV"
   ]
  },
  {
   "cell_type": "code",
   "execution_count": 85,
   "metadata": {},
   "outputs": [
    {
     "data": {
      "text/plain": [
       "GridSearchCV(cv=10, estimator=GradientBoostingClassifier(),\n",
       "             param_grid={'n_estimators': array([  1,  21,  41,  61,  81, 101, 121, 141, 161, 181])},\n",
       "             scoring='f1')"
      ]
     },
     "execution_count": 85,
     "metadata": {},
     "output_type": "execute_result"
    }
   ],
   "source": [
    "GB1 = GradientBoostingClassifier()\n",
    "a=np.arange(1,200,20)\n",
    "GSV4 = GridSearchCV(estimator=GB1, scoring='f1',cv=10,param_grid = dict(n_estimators=a))\n",
    "GSV4.fit(X_train,y_train)"
   ]
  },
  {
   "cell_type": "code",
   "execution_count": 83,
   "metadata": {},
   "outputs": [
    {
     "data": {
      "text/plain": [
       "{'n_estimators': 81}"
      ]
     },
     "execution_count": 83,
     "metadata": {},
     "output_type": "execute_result"
    }
   ],
   "source": [
    "GSV4.best_params_"
   ]
  },
  {
   "cell_type": "code",
   "execution_count": 84,
   "metadata": {},
   "outputs": [
    {
     "name": "stdout",
     "output_type": "stream",
     "text": [
      "0.6257110352673493\n",
      "0.5769669327251996\n",
      "[0.53602305 0.53061224 0.6        0.57142857 0.54227405 0.52542373\n",
      " 0.52537313 0.63128492 0.6010929  0.61849711]\n",
      "0.5682009708904195\n"
     ]
    }
   ],
   "source": [
    "GB = GradientBoostingClassifier(n_estimators=81)\n",
    "GB.fit(X_train,y_train)\n",
    "GB_Train = GB.predict(X_train)\n",
    "GB_Test = GB.predict(X_test)\n",
    "print(f1_score(y_train,GB_Train))\n",
    "print(f1_score(y_test,GB_Test))\n",
    "GB_CVal = cross_val_score(estimator=GB,cv=10,X=X_train,y=y_train,scoring='f1')\n",
    "print(GB_CVal)\n",
    "print(np.mean(GB_CVal))"
   ]
  },
  {
   "cell_type": "code",
   "execution_count": 90,
   "metadata": {},
   "outputs": [
    {
     "name": "stdout",
     "output_type": "stream",
     "text": [
      "['country', '1_diffClosing stocks(kmt)', '1_diffExports(kmt)', '1_diffImports(kmt)', '1_diffRefinery intake(kmt)', '1_diffSumExports(kmt)', '1_diffSumImports(kmt)', '1_diffSumProduction(kmt)', '1_diffSumRefinery intake(kmt)', '2_diffClosing stocks(kmt)', '2_diffExports(kmt)', '2_diffImports(kmt)', '2_diffRefinery intake(kmt)', '2_diffSumProduction(kmt)', '3_diffClosing stocks(kmt)', '3_diffExports(kmt)', '3_diffImports(kmt)', '3_diffRefinery intake(kmt)', '4_diffClosing stocks(kmt)', '4_diffExports(kmt)', '4_diffImports(kmt)', '4_diffRefinery intake(kmt)', '5_diffClosing stocks(kmt)', '5_diffExports(kmt)', '5_diffImports(kmt)', '5_diffRefinery intake(kmt)', '6_diffClosing stocks(kmt)', '6_diffExports(kmt)', '6_diffImports(kmt)', '6_diffRefinery intake(kmt)', '7_diffClosing stocks(kmt)', '7_diffExports(kmt)', '7_diffImports(kmt)', '7_diffRefinery intake(kmt)', '7_diffSumRefinery intake(kmt)', '8_diffClosing stocks(kmt)', '8_diffExports(kmt)', '8_diffImports(kmt)', '8_diffRefinery intake(kmt)', '9_diffClosing stocks(kmt)', '9_diffExports(kmt)', '9_diffImports(kmt)', '9_diffRefinery intake(kmt)', '10_diffClosing stocks(kmt)', '10_diffExports(kmt)', '10_diffImports(kmt)', '10_diffRefinery intake(kmt)', '11_diffClosing stocks(kmt)', '11_diffExports(kmt)', '11_diffImports(kmt)', '11_diffRefinery intake(kmt)', '12_diffClosing stocks(kmt)', '12_diffExports(kmt)', '12_diffImports(kmt)', '12_diffRefinery intake(kmt)', '12_diffSumImports(kmt)', '12_diffSumProduction(kmt)', '12_diffSumRefinery intake(kmt)']\n",
      "0.01\n"
     ]
    }
   ],
   "source": [
    "Selector = SelectFromModel(RandomForestClassifier(n_estimators=141,class_weight='balanced'))\n",
    "Selector.fit(X_train,y_train)\n",
    "sel_feat = X_train.columns[Selector.get_support()].to_list()\n",
    "print(sel_feat)\n",
    "print(np.round(Selector.threshold_,decimals=2))"
   ]
  },
  {
   "cell_type": "code",
   "execution_count": 98,
   "metadata": {},
   "outputs": [],
   "source": [
    "'''X_train1 = X_train[sel_feat]\n",
    "X_test1 = X_test[sel_feat]'''"
   ]
  },
  {
   "cell_type": "code",
   "execution_count": 101,
   "metadata": {},
   "outputs": [
    {
     "data": {
      "text/plain": [
       "\"RF = RandomForestClassifier(n_estimators=141,class_weight='balanced')\\nRF.fit(X_train1,y_train)\\nR_Train = RF.predict(X_train1)\\nR_Test = RF.predict(X_test1)\\nprint(f1_score(y_train,R_Train))\\nprint(f1_score(y_test,R_Test))\\nRF_CVal = cross_val_score(estimator=RF,cv=10,X=X_train1,y=y_train,scoring='f1')\\nprint(RF_CVal)\\nprint(np.mean(RF_CVal))\""
      ]
     },
     "execution_count": 101,
     "metadata": {},
     "output_type": "execute_result"
    }
   ],
   "source": [
    "'''RF = RandomForestClassifier(n_estimators=141,class_weight='balanced')\n",
    "RF.fit(X_train1,y_train)\n",
    "R_Train = RF.predict(X_train1)\n",
    "R_Test = RF.predict(X_test1)\n",
    "print(f1_score(y_train,R_Train))\n",
    "print(f1_score(y_test,R_Test))\n",
    "RF_CVal = cross_val_score(estimator=RF,cv=10,X=X_train1,y=y_train,scoring='f1')\n",
    "print(RF_CVal)\n",
    "print(np.mean(RF_CVal))'''\n"
   ]
  },
  {
   "cell_type": "code",
   "execution_count": 107,
   "metadata": {},
   "outputs": [
    {
     "data": {
      "application/vnd.plotly.v1+json": {
       "config": {
        "plotlyServerURL": "https://plot.ly"
       },
       "data": [
        {
         "mode": "lines+markers",
         "name": "'Cumulative Explained Variance'",
         "type": "scatter",
         "x": [
          0,
          1,
          2,
          3,
          4,
          5,
          6,
          7,
          8,
          9,
          10,
          11,
          12,
          13,
          14,
          15,
          16,
          17,
          18,
          19,
          20,
          21,
          22,
          23,
          24,
          25,
          26,
          27,
          28,
          29,
          30,
          31,
          32,
          33,
          34,
          35,
          36,
          37,
          38,
          39,
          40,
          41,
          42,
          43,
          44,
          45,
          46,
          47,
          48,
          49,
          50,
          51,
          52,
          53,
          54,
          55,
          56,
          57,
          58,
          59,
          60,
          61,
          62,
          63,
          64,
          65,
          66,
          67,
          68,
          69,
          70,
          71,
          72,
          73,
          74,
          75,
          76,
          77,
          78,
          79,
          80,
          81,
          82,
          83,
          84,
          85,
          86,
          87,
          88,
          89,
          90,
          91,
          92,
          93,
          94,
          95,
          96,
          97,
          98,
          99,
          100,
          101,
          102,
          103,
          104,
          105,
          106,
          107,
          108,
          109,
          110,
          111,
          112,
          113,
          114,
          115,
          116,
          117,
          118,
          119,
          120,
          121,
          122,
          123,
          124,
          125,
          126,
          127,
          128,
          129,
          130,
          131,
          132,
          133,
          134,
          135,
          136,
          137,
          138,
          139,
          140,
          141,
          142,
          143,
          144,
          145,
          146,
          147,
          148,
          149,
          150,
          151,
          152,
          153,
          154,
          155,
          156,
          157,
          158,
          159,
          160,
          161,
          162,
          163,
          164,
          165,
          166,
          167,
          168,
          169,
          170,
          171,
          172,
          173,
          174,
          175,
          176,
          177,
          178,
          179,
          180,
          181,
          182,
          183,
          184,
          185,
          186,
          187,
          188,
          189,
          190,
          191,
          192,
          193,
          194,
          195,
          196,
          197,
          198,
          199,
          200,
          201,
          202,
          203,
          204,
          205,
          206,
          207,
          208,
          209,
          210,
          211,
          212,
          213,
          214,
          215,
          216,
          217,
          218,
          219,
          220,
          221,
          222,
          223,
          224,
          225,
          226,
          227,
          228,
          229,
          230,
          231,
          232,
          233,
          234,
          235,
          236,
          237,
          238,
          239,
          240,
          241,
          242,
          243,
          244,
          245,
          246,
          247,
          248,
          249,
          250,
          251,
          252,
          253,
          254,
          255,
          256,
          257,
          258,
          259,
          260,
          261,
          262,
          263,
          264,
          265,
          266,
          267,
          268,
          269,
          270,
          271,
          272,
          273,
          274,
          275,
          276,
          277,
          278,
          279,
          280,
          281,
          282,
          283,
          284,
          285,
          286,
          287,
          288,
          289,
          290,
          291,
          292,
          293,
          294,
          295,
          296,
          297,
          298,
          299,
          300,
          301,
          302,
          303,
          304,
          305,
          306,
          307,
          308,
          309,
          310,
          311,
          312,
          313,
          314,
          315,
          316,
          317,
          318,
          319,
          320,
          321,
          322,
          323,
          324,
          325,
          326,
          327,
          328,
          329,
          330,
          331,
          332,
          333,
          334,
          335,
          336,
          337,
          338,
          339,
          340,
          341,
          342,
          343,
          344,
          345,
          346,
          347,
          348,
          349,
          350,
          351,
          352,
          353,
          354,
          355,
          356,
          357,
          358,
          359,
          360,
          361,
          362,
          363,
          364,
          365,
          366,
          367,
          368,
          369,
          370,
          371,
          372,
          373,
          374,
          375,
          376,
          377,
          378,
          379,
          380,
          381,
          382,
          383,
          384,
          385,
          386,
          387,
          388,
          389,
          390,
          391,
          392,
          393,
          394,
          395,
          396,
          397,
          398,
          399,
          400,
          401,
          402,
          403,
          404,
          405,
          406,
          407,
          408,
          409,
          410,
          411,
          412,
          413,
          414,
          415,
          416,
          417,
          418,
          419,
          420,
          421,
          422,
          423,
          424,
          425,
          426,
          427,
          428,
          429,
          430,
          431,
          432,
          433,
          434,
          435,
          436,
          437,
          438,
          439,
          440,
          441,
          442,
          443,
          444,
          445,
          446,
          447,
          448,
          449,
          450,
          451,
          452,
          453,
          454,
          455,
          456,
          457,
          458,
          459,
          460,
          461,
          462,
          463,
          464,
          465,
          466,
          467,
          468,
          469,
          470,
          471,
          472,
          473,
          474,
          475,
          476,
          477,
          478,
          479,
          480,
          481,
          482,
          483,
          484,
          485,
          486,
          487,
          488,
          489,
          490,
          491,
          492,
          493,
          494,
          495,
          496,
          497,
          498,
          499,
          500,
          501,
          502,
          503,
          504,
          505,
          506,
          507,
          508,
          509,
          510,
          511,
          512,
          513,
          514,
          515,
          516,
          517,
          518,
          519,
          520,
          521,
          522,
          523,
          524,
          525,
          526,
          527,
          528,
          529,
          530,
          531,
          532,
          533,
          534,
          535,
          536,
          537,
          538,
          539,
          540,
          541,
          542,
          543,
          544,
          545,
          546,
          547,
          548,
          549,
          550,
          551,
          552,
          553,
          554,
          555,
          556,
          557,
          558,
          559,
          560,
          561,
          562,
          563,
          564,
          565,
          566,
          567,
          568,
          569,
          570,
          571,
          572,
          573,
          574,
          575,
          576,
          577,
          578,
          579,
          580,
          581,
          582,
          583,
          584,
          585,
          586,
          587,
          588,
          589,
          590,
          591,
          592,
          593,
          594,
          595,
          596,
          597,
          598,
          599,
          600,
          601,
          602,
          603,
          604,
          605,
          606,
          607,
          608,
          609,
          610,
          611,
          612,
          613,
          614,
          615,
          616,
          617,
          618,
          619,
          620,
          621,
          622,
          623,
          624,
          625,
          626,
          627,
          628,
          629,
          630,
          631,
          632,
          633,
          634,
          635,
          636,
          637,
          638,
          639,
          640,
          641,
          642,
          643,
          644,
          645,
          646,
          647,
          648,
          649,
          650,
          651,
          652,
          653,
          654,
          655,
          656,
          657,
          658,
          659,
          660,
          661,
          662,
          663,
          664,
          665,
          666,
          667,
          668,
          669,
          670,
          671,
          672,
          673,
          674,
          675,
          676,
          677,
          678,
          679,
          680,
          681,
          682,
          683,
          684,
          685,
          686,
          687,
          688,
          689,
          690,
          691,
          692,
          693,
          694,
          695,
          696,
          697,
          698,
          699,
          700,
          701,
          702,
          703,
          704,
          705,
          706,
          707,
          708,
          709,
          710,
          711,
          712,
          713,
          714,
          715,
          716,
          717,
          718,
          719,
          720,
          721,
          722,
          723,
          724,
          725,
          726,
          727,
          728,
          729,
          730,
          731,
          732,
          733,
          734,
          735,
          736,
          737,
          738,
          739,
          740,
          741,
          742,
          743,
          744,
          745,
          746,
          747,
          748,
          749,
          750,
          751,
          752,
          753,
          754,
          755,
          756,
          757,
          758,
          759,
          760,
          761,
          762,
          763,
          764,
          765,
          766,
          767,
          768,
          769,
          770,
          771,
          772,
          773,
          774,
          775,
          776,
          777,
          778,
          779,
          780,
          781,
          782,
          783,
          784,
          785,
          786,
          787,
          788,
          789,
          790,
          791,
          792,
          793,
          794,
          795,
          796,
          797,
          798,
          799,
          800,
          801,
          802,
          803,
          804,
          805,
          806,
          807,
          808,
          809,
          810,
          811,
          812,
          813,
          814,
          815,
          816,
          817,
          818,
          819,
          820,
          821,
          822,
          823,
          824,
          825,
          826,
          827,
          828,
          829,
          830,
          831,
          832,
          833,
          834,
          835,
          836,
          837,
          838,
          839,
          840,
          841,
          842,
          843,
          844,
          845,
          846,
          847,
          848,
          849,
          850,
          851,
          852,
          853,
          854,
          855,
          856,
          857,
          858,
          859,
          860,
          861,
          862,
          863,
          864,
          865,
          866,
          867,
          868,
          869,
          870,
          871,
          872,
          873,
          874,
          875,
          876,
          877,
          878,
          879,
          880,
          881,
          882,
          883,
          884,
          885,
          886,
          887,
          888,
          889,
          890,
          891,
          892,
          893,
          894,
          895,
          896,
          897,
          898,
          899,
          900,
          901,
          902,
          903,
          904,
          905,
          906,
          907,
          908,
          909,
          910,
          911,
          912,
          913,
          914,
          915,
          916,
          917,
          918,
          919,
          920,
          921,
          922,
          923,
          924,
          925,
          926,
          927,
          928,
          929,
          930,
          931,
          932,
          933,
          934,
          935,
          936,
          937,
          938,
          939,
          940,
          941,
          942,
          943,
          944,
          945,
          946,
          947,
          948,
          949,
          950,
          951,
          952,
          953,
          954,
          955,
          956,
          957,
          958,
          959,
          960,
          961,
          962,
          963,
          964,
          965,
          966,
          967,
          968,
          969,
          970,
          971,
          972,
          973,
          974,
          975,
          976,
          977,
          978,
          979,
          980,
          981,
          982,
          983,
          984,
          985,
          986,
          987,
          988,
          989,
          990,
          991,
          992,
          993,
          994,
          995,
          996,
          997,
          998,
          999
         ],
         "y": [
          16.6,
          32.900000000000006,
          41.300000000000004,
          49.00000000000001,
          56.300000000000004,
          63.300000000000004,
          70,
          73.7,
          76.8,
          79.7,
          82.3,
          84,
          85.2,
          86.2,
          87.10000000000001,
          88.00000000000001,
          88.80000000000001,
          89.50000000000001,
          90.20000000000002
         ]
        }
       ],
       "layout": {
        "height": 500,
        "template": {
         "data": {
          "bar": [
           {
            "error_x": {
             "color": "#2a3f5f"
            },
            "error_y": {
             "color": "#2a3f5f"
            },
            "marker": {
             "line": {
              "color": "#E5ECF6",
              "width": 0.5
             },
             "pattern": {
              "fillmode": "overlay",
              "size": 10,
              "solidity": 0.2
             }
            },
            "type": "bar"
           }
          ],
          "barpolar": [
           {
            "marker": {
             "line": {
              "color": "#E5ECF6",
              "width": 0.5
             },
             "pattern": {
              "fillmode": "overlay",
              "size": 10,
              "solidity": 0.2
             }
            },
            "type": "barpolar"
           }
          ],
          "carpet": [
           {
            "aaxis": {
             "endlinecolor": "#2a3f5f",
             "gridcolor": "white",
             "linecolor": "white",
             "minorgridcolor": "white",
             "startlinecolor": "#2a3f5f"
            },
            "baxis": {
             "endlinecolor": "#2a3f5f",
             "gridcolor": "white",
             "linecolor": "white",
             "minorgridcolor": "white",
             "startlinecolor": "#2a3f5f"
            },
            "type": "carpet"
           }
          ],
          "choropleth": [
           {
            "colorbar": {
             "outlinewidth": 0,
             "ticks": ""
            },
            "type": "choropleth"
           }
          ],
          "contour": [
           {
            "colorbar": {
             "outlinewidth": 0,
             "ticks": ""
            },
            "colorscale": [
             [
              0,
              "#0d0887"
             ],
             [
              0.1111111111111111,
              "#46039f"
             ],
             [
              0.2222222222222222,
              "#7201a8"
             ],
             [
              0.3333333333333333,
              "#9c179e"
             ],
             [
              0.4444444444444444,
              "#bd3786"
             ],
             [
              0.5555555555555556,
              "#d8576b"
             ],
             [
              0.6666666666666666,
              "#ed7953"
             ],
             [
              0.7777777777777778,
              "#fb9f3a"
             ],
             [
              0.8888888888888888,
              "#fdca26"
             ],
             [
              1,
              "#f0f921"
             ]
            ],
            "type": "contour"
           }
          ],
          "contourcarpet": [
           {
            "colorbar": {
             "outlinewidth": 0,
             "ticks": ""
            },
            "type": "contourcarpet"
           }
          ],
          "heatmap": [
           {
            "colorbar": {
             "outlinewidth": 0,
             "ticks": ""
            },
            "colorscale": [
             [
              0,
              "#0d0887"
             ],
             [
              0.1111111111111111,
              "#46039f"
             ],
             [
              0.2222222222222222,
              "#7201a8"
             ],
             [
              0.3333333333333333,
              "#9c179e"
             ],
             [
              0.4444444444444444,
              "#bd3786"
             ],
             [
              0.5555555555555556,
              "#d8576b"
             ],
             [
              0.6666666666666666,
              "#ed7953"
             ],
             [
              0.7777777777777778,
              "#fb9f3a"
             ],
             [
              0.8888888888888888,
              "#fdca26"
             ],
             [
              1,
              "#f0f921"
             ]
            ],
            "type": "heatmap"
           }
          ],
          "heatmapgl": [
           {
            "colorbar": {
             "outlinewidth": 0,
             "ticks": ""
            },
            "colorscale": [
             [
              0,
              "#0d0887"
             ],
             [
              0.1111111111111111,
              "#46039f"
             ],
             [
              0.2222222222222222,
              "#7201a8"
             ],
             [
              0.3333333333333333,
              "#9c179e"
             ],
             [
              0.4444444444444444,
              "#bd3786"
             ],
             [
              0.5555555555555556,
              "#d8576b"
             ],
             [
              0.6666666666666666,
              "#ed7953"
             ],
             [
              0.7777777777777778,
              "#fb9f3a"
             ],
             [
              0.8888888888888888,
              "#fdca26"
             ],
             [
              1,
              "#f0f921"
             ]
            ],
            "type": "heatmapgl"
           }
          ],
          "histogram": [
           {
            "marker": {
             "pattern": {
              "fillmode": "overlay",
              "size": 10,
              "solidity": 0.2
             }
            },
            "type": "histogram"
           }
          ],
          "histogram2d": [
           {
            "colorbar": {
             "outlinewidth": 0,
             "ticks": ""
            },
            "colorscale": [
             [
              0,
              "#0d0887"
             ],
             [
              0.1111111111111111,
              "#46039f"
             ],
             [
              0.2222222222222222,
              "#7201a8"
             ],
             [
              0.3333333333333333,
              "#9c179e"
             ],
             [
              0.4444444444444444,
              "#bd3786"
             ],
             [
              0.5555555555555556,
              "#d8576b"
             ],
             [
              0.6666666666666666,
              "#ed7953"
             ],
             [
              0.7777777777777778,
              "#fb9f3a"
             ],
             [
              0.8888888888888888,
              "#fdca26"
             ],
             [
              1,
              "#f0f921"
             ]
            ],
            "type": "histogram2d"
           }
          ],
          "histogram2dcontour": [
           {
            "colorbar": {
             "outlinewidth": 0,
             "ticks": ""
            },
            "colorscale": [
             [
              0,
              "#0d0887"
             ],
             [
              0.1111111111111111,
              "#46039f"
             ],
             [
              0.2222222222222222,
              "#7201a8"
             ],
             [
              0.3333333333333333,
              "#9c179e"
             ],
             [
              0.4444444444444444,
              "#bd3786"
             ],
             [
              0.5555555555555556,
              "#d8576b"
             ],
             [
              0.6666666666666666,
              "#ed7953"
             ],
             [
              0.7777777777777778,
              "#fb9f3a"
             ],
             [
              0.8888888888888888,
              "#fdca26"
             ],
             [
              1,
              "#f0f921"
             ]
            ],
            "type": "histogram2dcontour"
           }
          ],
          "mesh3d": [
           {
            "colorbar": {
             "outlinewidth": 0,
             "ticks": ""
            },
            "type": "mesh3d"
           }
          ],
          "parcoords": [
           {
            "line": {
             "colorbar": {
              "outlinewidth": 0,
              "ticks": ""
             }
            },
            "type": "parcoords"
           }
          ],
          "pie": [
           {
            "automargin": true,
            "type": "pie"
           }
          ],
          "scatter": [
           {
            "marker": {
             "colorbar": {
              "outlinewidth": 0,
              "ticks": ""
             }
            },
            "type": "scatter"
           }
          ],
          "scatter3d": [
           {
            "line": {
             "colorbar": {
              "outlinewidth": 0,
              "ticks": ""
             }
            },
            "marker": {
             "colorbar": {
              "outlinewidth": 0,
              "ticks": ""
             }
            },
            "type": "scatter3d"
           }
          ],
          "scattercarpet": [
           {
            "marker": {
             "colorbar": {
              "outlinewidth": 0,
              "ticks": ""
             }
            },
            "type": "scattercarpet"
           }
          ],
          "scattergeo": [
           {
            "marker": {
             "colorbar": {
              "outlinewidth": 0,
              "ticks": ""
             }
            },
            "type": "scattergeo"
           }
          ],
          "scattergl": [
           {
            "marker": {
             "colorbar": {
              "outlinewidth": 0,
              "ticks": ""
             }
            },
            "type": "scattergl"
           }
          ],
          "scattermapbox": [
           {
            "marker": {
             "colorbar": {
              "outlinewidth": 0,
              "ticks": ""
             }
            },
            "type": "scattermapbox"
           }
          ],
          "scatterpolar": [
           {
            "marker": {
             "colorbar": {
              "outlinewidth": 0,
              "ticks": ""
             }
            },
            "type": "scatterpolar"
           }
          ],
          "scatterpolargl": [
           {
            "marker": {
             "colorbar": {
              "outlinewidth": 0,
              "ticks": ""
             }
            },
            "type": "scatterpolargl"
           }
          ],
          "scatterternary": [
           {
            "marker": {
             "colorbar": {
              "outlinewidth": 0,
              "ticks": ""
             }
            },
            "type": "scatterternary"
           }
          ],
          "surface": [
           {
            "colorbar": {
             "outlinewidth": 0,
             "ticks": ""
            },
            "colorscale": [
             [
              0,
              "#0d0887"
             ],
             [
              0.1111111111111111,
              "#46039f"
             ],
             [
              0.2222222222222222,
              "#7201a8"
             ],
             [
              0.3333333333333333,
              "#9c179e"
             ],
             [
              0.4444444444444444,
              "#bd3786"
             ],
             [
              0.5555555555555556,
              "#d8576b"
             ],
             [
              0.6666666666666666,
              "#ed7953"
             ],
             [
              0.7777777777777778,
              "#fb9f3a"
             ],
             [
              0.8888888888888888,
              "#fdca26"
             ],
             [
              1,
              "#f0f921"
             ]
            ],
            "type": "surface"
           }
          ],
          "table": [
           {
            "cells": {
             "fill": {
              "color": "#EBF0F8"
             },
             "line": {
              "color": "white"
             }
            },
            "header": {
             "fill": {
              "color": "#C8D4E3"
             },
             "line": {
              "color": "white"
             }
            },
            "type": "table"
           }
          ]
         },
         "layout": {
          "annotationdefaults": {
           "arrowcolor": "#2a3f5f",
           "arrowhead": 0,
           "arrowwidth": 1
          },
          "autotypenumbers": "strict",
          "coloraxis": {
           "colorbar": {
            "outlinewidth": 0,
            "ticks": ""
           }
          },
          "colorscale": {
           "diverging": [
            [
             0,
             "#8e0152"
            ],
            [
             0.1,
             "#c51b7d"
            ],
            [
             0.2,
             "#de77ae"
            ],
            [
             0.3,
             "#f1b6da"
            ],
            [
             0.4,
             "#fde0ef"
            ],
            [
             0.5,
             "#f7f7f7"
            ],
            [
             0.6,
             "#e6f5d0"
            ],
            [
             0.7,
             "#b8e186"
            ],
            [
             0.8,
             "#7fbc41"
            ],
            [
             0.9,
             "#4d9221"
            ],
            [
             1,
             "#276419"
            ]
           ],
           "sequential": [
            [
             0,
             "#0d0887"
            ],
            [
             0.1111111111111111,
             "#46039f"
            ],
            [
             0.2222222222222222,
             "#7201a8"
            ],
            [
             0.3333333333333333,
             "#9c179e"
            ],
            [
             0.4444444444444444,
             "#bd3786"
            ],
            [
             0.5555555555555556,
             "#d8576b"
            ],
            [
             0.6666666666666666,
             "#ed7953"
            ],
            [
             0.7777777777777778,
             "#fb9f3a"
            ],
            [
             0.8888888888888888,
             "#fdca26"
            ],
            [
             1,
             "#f0f921"
            ]
           ],
           "sequentialminus": [
            [
             0,
             "#0d0887"
            ],
            [
             0.1111111111111111,
             "#46039f"
            ],
            [
             0.2222222222222222,
             "#7201a8"
            ],
            [
             0.3333333333333333,
             "#9c179e"
            ],
            [
             0.4444444444444444,
             "#bd3786"
            ],
            [
             0.5555555555555556,
             "#d8576b"
            ],
            [
             0.6666666666666666,
             "#ed7953"
            ],
            [
             0.7777777777777778,
             "#fb9f3a"
            ],
            [
             0.8888888888888888,
             "#fdca26"
            ],
            [
             1,
             "#f0f921"
            ]
           ]
          },
          "colorway": [
           "#636efa",
           "#EF553B",
           "#00cc96",
           "#ab63fa",
           "#FFA15A",
           "#19d3f3",
           "#FF6692",
           "#B6E880",
           "#FF97FF",
           "#FECB52"
          ],
          "font": {
           "color": "#2a3f5f"
          },
          "geo": {
           "bgcolor": "white",
           "lakecolor": "white",
           "landcolor": "#E5ECF6",
           "showlakes": true,
           "showland": true,
           "subunitcolor": "white"
          },
          "hoverlabel": {
           "align": "left"
          },
          "hovermode": "closest",
          "mapbox": {
           "style": "light"
          },
          "paper_bgcolor": "white",
          "plot_bgcolor": "#E5ECF6",
          "polar": {
           "angularaxis": {
            "gridcolor": "white",
            "linecolor": "white",
            "ticks": ""
           },
           "bgcolor": "#E5ECF6",
           "radialaxis": {
            "gridcolor": "white",
            "linecolor": "white",
            "ticks": ""
           }
          },
          "scene": {
           "xaxis": {
            "backgroundcolor": "#E5ECF6",
            "gridcolor": "white",
            "gridwidth": 2,
            "linecolor": "white",
            "showbackground": true,
            "ticks": "",
            "zerolinecolor": "white"
           },
           "yaxis": {
            "backgroundcolor": "#E5ECF6",
            "gridcolor": "white",
            "gridwidth": 2,
            "linecolor": "white",
            "showbackground": true,
            "ticks": "",
            "zerolinecolor": "white"
           },
           "zaxis": {
            "backgroundcolor": "#E5ECF6",
            "gridcolor": "white",
            "gridwidth": 2,
            "linecolor": "white",
            "showbackground": true,
            "ticks": "",
            "zerolinecolor": "white"
           }
          },
          "shapedefaults": {
           "line": {
            "color": "#2a3f5f"
           }
          },
          "ternary": {
           "aaxis": {
            "gridcolor": "white",
            "linecolor": "white",
            "ticks": ""
           },
           "baxis": {
            "gridcolor": "white",
            "linecolor": "white",
            "ticks": ""
           },
           "bgcolor": "#E5ECF6",
           "caxis": {
            "gridcolor": "white",
            "linecolor": "white",
            "ticks": ""
           }
          },
          "title": {
           "x": 0.05
          },
          "xaxis": {
           "automargin": true,
           "gridcolor": "white",
           "linecolor": "white",
           "ticks": "",
           "title": {
            "standoff": 15
           },
           "zerolinecolor": "white",
           "zerolinewidth": 2
          },
          "yaxis": {
           "automargin": true,
           "gridcolor": "white",
           "linecolor": "white",
           "ticks": "",
           "title": {
            "standoff": 15
           },
           "zerolinecolor": "white",
           "zerolinewidth": 2
          }
         }
        },
        "title": {
         "text": "PCA Analysis",
         "x": 0.5
        },
        "width": 1000,
        "xaxis": {
         "title": {
          "text": "Number of components"
         }
        },
        "yaxis": {
         "title": {
          "text": "Explained Variance %"
         }
        }
       }
      },
      "text/html": [
       "<div>                            <div id=\"1330d56c-904e-4a43-bf16-530d9899f848\" class=\"plotly-graph-div\" style=\"height:500px; width:1000px;\"></div>            <script type=\"text/javascript\">                require([\"plotly\"], function(Plotly) {                    window.PLOTLYENV=window.PLOTLYENV || {};                                    if (document.getElementById(\"1330d56c-904e-4a43-bf16-530d9899f848\")) {                    Plotly.newPlot(                        \"1330d56c-904e-4a43-bf16-530d9899f848\",                        [{\"mode\":\"lines+markers\",\"name\":\"'Cumulative Explained Variance'\",\"type\":\"scatter\",\"x\":[0,1,2,3,4,5,6,7,8,9,10,11,12,13,14,15,16,17,18,19,20,21,22,23,24,25,26,27,28,29,30,31,32,33,34,35,36,37,38,39,40,41,42,43,44,45,46,47,48,49,50,51,52,53,54,55,56,57,58,59,60,61,62,63,64,65,66,67,68,69,70,71,72,73,74,75,76,77,78,79,80,81,82,83,84,85,86,87,88,89,90,91,92,93,94,95,96,97,98,99,100,101,102,103,104,105,106,107,108,109,110,111,112,113,114,115,116,117,118,119,120,121,122,123,124,125,126,127,128,129,130,131,132,133,134,135,136,137,138,139,140,141,142,143,144,145,146,147,148,149,150,151,152,153,154,155,156,157,158,159,160,161,162,163,164,165,166,167,168,169,170,171,172,173,174,175,176,177,178,179,180,181,182,183,184,185,186,187,188,189,190,191,192,193,194,195,196,197,198,199,200,201,202,203,204,205,206,207,208,209,210,211,212,213,214,215,216,217,218,219,220,221,222,223,224,225,226,227,228,229,230,231,232,233,234,235,236,237,238,239,240,241,242,243,244,245,246,247,248,249,250,251,252,253,254,255,256,257,258,259,260,261,262,263,264,265,266,267,268,269,270,271,272,273,274,275,276,277,278,279,280,281,282,283,284,285,286,287,288,289,290,291,292,293,294,295,296,297,298,299,300,301,302,303,304,305,306,307,308,309,310,311,312,313,314,315,316,317,318,319,320,321,322,323,324,325,326,327,328,329,330,331,332,333,334,335,336,337,338,339,340,341,342,343,344,345,346,347,348,349,350,351,352,353,354,355,356,357,358,359,360,361,362,363,364,365,366,367,368,369,370,371,372,373,374,375,376,377,378,379,380,381,382,383,384,385,386,387,388,389,390,391,392,393,394,395,396,397,398,399,400,401,402,403,404,405,406,407,408,409,410,411,412,413,414,415,416,417,418,419,420,421,422,423,424,425,426,427,428,429,430,431,432,433,434,435,436,437,438,439,440,441,442,443,444,445,446,447,448,449,450,451,452,453,454,455,456,457,458,459,460,461,462,463,464,465,466,467,468,469,470,471,472,473,474,475,476,477,478,479,480,481,482,483,484,485,486,487,488,489,490,491,492,493,494,495,496,497,498,499,500,501,502,503,504,505,506,507,508,509,510,511,512,513,514,515,516,517,518,519,520,521,522,523,524,525,526,527,528,529,530,531,532,533,534,535,536,537,538,539,540,541,542,543,544,545,546,547,548,549,550,551,552,553,554,555,556,557,558,559,560,561,562,563,564,565,566,567,568,569,570,571,572,573,574,575,576,577,578,579,580,581,582,583,584,585,586,587,588,589,590,591,592,593,594,595,596,597,598,599,600,601,602,603,604,605,606,607,608,609,610,611,612,613,614,615,616,617,618,619,620,621,622,623,624,625,626,627,628,629,630,631,632,633,634,635,636,637,638,639,640,641,642,643,644,645,646,647,648,649,650,651,652,653,654,655,656,657,658,659,660,661,662,663,664,665,666,667,668,669,670,671,672,673,674,675,676,677,678,679,680,681,682,683,684,685,686,687,688,689,690,691,692,693,694,695,696,697,698,699,700,701,702,703,704,705,706,707,708,709,710,711,712,713,714,715,716,717,718,719,720,721,722,723,724,725,726,727,728,729,730,731,732,733,734,735,736,737,738,739,740,741,742,743,744,745,746,747,748,749,750,751,752,753,754,755,756,757,758,759,760,761,762,763,764,765,766,767,768,769,770,771,772,773,774,775,776,777,778,779,780,781,782,783,784,785,786,787,788,789,790,791,792,793,794,795,796,797,798,799,800,801,802,803,804,805,806,807,808,809,810,811,812,813,814,815,816,817,818,819,820,821,822,823,824,825,826,827,828,829,830,831,832,833,834,835,836,837,838,839,840,841,842,843,844,845,846,847,848,849,850,851,852,853,854,855,856,857,858,859,860,861,862,863,864,865,866,867,868,869,870,871,872,873,874,875,876,877,878,879,880,881,882,883,884,885,886,887,888,889,890,891,892,893,894,895,896,897,898,899,900,901,902,903,904,905,906,907,908,909,910,911,912,913,914,915,916,917,918,919,920,921,922,923,924,925,926,927,928,929,930,931,932,933,934,935,936,937,938,939,940,941,942,943,944,945,946,947,948,949,950,951,952,953,954,955,956,957,958,959,960,961,962,963,964,965,966,967,968,969,970,971,972,973,974,975,976,977,978,979,980,981,982,983,984,985,986,987,988,989,990,991,992,993,994,995,996,997,998,999],\"y\":[16.6,32.900000000000006,41.300000000000004,49.00000000000001,56.300000000000004,63.300000000000004,70.0,73.7,76.8,79.7,82.3,84.0,85.2,86.2,87.10000000000001,88.00000000000001,88.80000000000001,89.50000000000001,90.20000000000002]}],                        {\"height\":500,\"template\":{\"data\":{\"bar\":[{\"error_x\":{\"color\":\"#2a3f5f\"},\"error_y\":{\"color\":\"#2a3f5f\"},\"marker\":{\"line\":{\"color\":\"#E5ECF6\",\"width\":0.5},\"pattern\":{\"fillmode\":\"overlay\",\"size\":10,\"solidity\":0.2}},\"type\":\"bar\"}],\"barpolar\":[{\"marker\":{\"line\":{\"color\":\"#E5ECF6\",\"width\":0.5},\"pattern\":{\"fillmode\":\"overlay\",\"size\":10,\"solidity\":0.2}},\"type\":\"barpolar\"}],\"carpet\":[{\"aaxis\":{\"endlinecolor\":\"#2a3f5f\",\"gridcolor\":\"white\",\"linecolor\":\"white\",\"minorgridcolor\":\"white\",\"startlinecolor\":\"#2a3f5f\"},\"baxis\":{\"endlinecolor\":\"#2a3f5f\",\"gridcolor\":\"white\",\"linecolor\":\"white\",\"minorgridcolor\":\"white\",\"startlinecolor\":\"#2a3f5f\"},\"type\":\"carpet\"}],\"choropleth\":[{\"colorbar\":{\"outlinewidth\":0,\"ticks\":\"\"},\"type\":\"choropleth\"}],\"contour\":[{\"colorbar\":{\"outlinewidth\":0,\"ticks\":\"\"},\"colorscale\":[[0.0,\"#0d0887\"],[0.1111111111111111,\"#46039f\"],[0.2222222222222222,\"#7201a8\"],[0.3333333333333333,\"#9c179e\"],[0.4444444444444444,\"#bd3786\"],[0.5555555555555556,\"#d8576b\"],[0.6666666666666666,\"#ed7953\"],[0.7777777777777778,\"#fb9f3a\"],[0.8888888888888888,\"#fdca26\"],[1.0,\"#f0f921\"]],\"type\":\"contour\"}],\"contourcarpet\":[{\"colorbar\":{\"outlinewidth\":0,\"ticks\":\"\"},\"type\":\"contourcarpet\"}],\"heatmap\":[{\"colorbar\":{\"outlinewidth\":0,\"ticks\":\"\"},\"colorscale\":[[0.0,\"#0d0887\"],[0.1111111111111111,\"#46039f\"],[0.2222222222222222,\"#7201a8\"],[0.3333333333333333,\"#9c179e\"],[0.4444444444444444,\"#bd3786\"],[0.5555555555555556,\"#d8576b\"],[0.6666666666666666,\"#ed7953\"],[0.7777777777777778,\"#fb9f3a\"],[0.8888888888888888,\"#fdca26\"],[1.0,\"#f0f921\"]],\"type\":\"heatmap\"}],\"heatmapgl\":[{\"colorbar\":{\"outlinewidth\":0,\"ticks\":\"\"},\"colorscale\":[[0.0,\"#0d0887\"],[0.1111111111111111,\"#46039f\"],[0.2222222222222222,\"#7201a8\"],[0.3333333333333333,\"#9c179e\"],[0.4444444444444444,\"#bd3786\"],[0.5555555555555556,\"#d8576b\"],[0.6666666666666666,\"#ed7953\"],[0.7777777777777778,\"#fb9f3a\"],[0.8888888888888888,\"#fdca26\"],[1.0,\"#f0f921\"]],\"type\":\"heatmapgl\"}],\"histogram\":[{\"marker\":{\"pattern\":{\"fillmode\":\"overlay\",\"size\":10,\"solidity\":0.2}},\"type\":\"histogram\"}],\"histogram2d\":[{\"colorbar\":{\"outlinewidth\":0,\"ticks\":\"\"},\"colorscale\":[[0.0,\"#0d0887\"],[0.1111111111111111,\"#46039f\"],[0.2222222222222222,\"#7201a8\"],[0.3333333333333333,\"#9c179e\"],[0.4444444444444444,\"#bd3786\"],[0.5555555555555556,\"#d8576b\"],[0.6666666666666666,\"#ed7953\"],[0.7777777777777778,\"#fb9f3a\"],[0.8888888888888888,\"#fdca26\"],[1.0,\"#f0f921\"]],\"type\":\"histogram2d\"}],\"histogram2dcontour\":[{\"colorbar\":{\"outlinewidth\":0,\"ticks\":\"\"},\"colorscale\":[[0.0,\"#0d0887\"],[0.1111111111111111,\"#46039f\"],[0.2222222222222222,\"#7201a8\"],[0.3333333333333333,\"#9c179e\"],[0.4444444444444444,\"#bd3786\"],[0.5555555555555556,\"#d8576b\"],[0.6666666666666666,\"#ed7953\"],[0.7777777777777778,\"#fb9f3a\"],[0.8888888888888888,\"#fdca26\"],[1.0,\"#f0f921\"]],\"type\":\"histogram2dcontour\"}],\"mesh3d\":[{\"colorbar\":{\"outlinewidth\":0,\"ticks\":\"\"},\"type\":\"mesh3d\"}],\"parcoords\":[{\"line\":{\"colorbar\":{\"outlinewidth\":0,\"ticks\":\"\"}},\"type\":\"parcoords\"}],\"pie\":[{\"automargin\":true,\"type\":\"pie\"}],\"scatter\":[{\"marker\":{\"colorbar\":{\"outlinewidth\":0,\"ticks\":\"\"}},\"type\":\"scatter\"}],\"scatter3d\":[{\"line\":{\"colorbar\":{\"outlinewidth\":0,\"ticks\":\"\"}},\"marker\":{\"colorbar\":{\"outlinewidth\":0,\"ticks\":\"\"}},\"type\":\"scatter3d\"}],\"scattercarpet\":[{\"marker\":{\"colorbar\":{\"outlinewidth\":0,\"ticks\":\"\"}},\"type\":\"scattercarpet\"}],\"scattergeo\":[{\"marker\":{\"colorbar\":{\"outlinewidth\":0,\"ticks\":\"\"}},\"type\":\"scattergeo\"}],\"scattergl\":[{\"marker\":{\"colorbar\":{\"outlinewidth\":0,\"ticks\":\"\"}},\"type\":\"scattergl\"}],\"scattermapbox\":[{\"marker\":{\"colorbar\":{\"outlinewidth\":0,\"ticks\":\"\"}},\"type\":\"scattermapbox\"}],\"scatterpolar\":[{\"marker\":{\"colorbar\":{\"outlinewidth\":0,\"ticks\":\"\"}},\"type\":\"scatterpolar\"}],\"scatterpolargl\":[{\"marker\":{\"colorbar\":{\"outlinewidth\":0,\"ticks\":\"\"}},\"type\":\"scatterpolargl\"}],\"scatterternary\":[{\"marker\":{\"colorbar\":{\"outlinewidth\":0,\"ticks\":\"\"}},\"type\":\"scatterternary\"}],\"surface\":[{\"colorbar\":{\"outlinewidth\":0,\"ticks\":\"\"},\"colorscale\":[[0.0,\"#0d0887\"],[0.1111111111111111,\"#46039f\"],[0.2222222222222222,\"#7201a8\"],[0.3333333333333333,\"#9c179e\"],[0.4444444444444444,\"#bd3786\"],[0.5555555555555556,\"#d8576b\"],[0.6666666666666666,\"#ed7953\"],[0.7777777777777778,\"#fb9f3a\"],[0.8888888888888888,\"#fdca26\"],[1.0,\"#f0f921\"]],\"type\":\"surface\"}],\"table\":[{\"cells\":{\"fill\":{\"color\":\"#EBF0F8\"},\"line\":{\"color\":\"white\"}},\"header\":{\"fill\":{\"color\":\"#C8D4E3\"},\"line\":{\"color\":\"white\"}},\"type\":\"table\"}]},\"layout\":{\"annotationdefaults\":{\"arrowcolor\":\"#2a3f5f\",\"arrowhead\":0,\"arrowwidth\":1},\"autotypenumbers\":\"strict\",\"coloraxis\":{\"colorbar\":{\"outlinewidth\":0,\"ticks\":\"\"}},\"colorscale\":{\"diverging\":[[0,\"#8e0152\"],[0.1,\"#c51b7d\"],[0.2,\"#de77ae\"],[0.3,\"#f1b6da\"],[0.4,\"#fde0ef\"],[0.5,\"#f7f7f7\"],[0.6,\"#e6f5d0\"],[0.7,\"#b8e186\"],[0.8,\"#7fbc41\"],[0.9,\"#4d9221\"],[1,\"#276419\"]],\"sequential\":[[0.0,\"#0d0887\"],[0.1111111111111111,\"#46039f\"],[0.2222222222222222,\"#7201a8\"],[0.3333333333333333,\"#9c179e\"],[0.4444444444444444,\"#bd3786\"],[0.5555555555555556,\"#d8576b\"],[0.6666666666666666,\"#ed7953\"],[0.7777777777777778,\"#fb9f3a\"],[0.8888888888888888,\"#fdca26\"],[1.0,\"#f0f921\"]],\"sequentialminus\":[[0.0,\"#0d0887\"],[0.1111111111111111,\"#46039f\"],[0.2222222222222222,\"#7201a8\"],[0.3333333333333333,\"#9c179e\"],[0.4444444444444444,\"#bd3786\"],[0.5555555555555556,\"#d8576b\"],[0.6666666666666666,\"#ed7953\"],[0.7777777777777778,\"#fb9f3a\"],[0.8888888888888888,\"#fdca26\"],[1.0,\"#f0f921\"]]},\"colorway\":[\"#636efa\",\"#EF553B\",\"#00cc96\",\"#ab63fa\",\"#FFA15A\",\"#19d3f3\",\"#FF6692\",\"#B6E880\",\"#FF97FF\",\"#FECB52\"],\"font\":{\"color\":\"#2a3f5f\"},\"geo\":{\"bgcolor\":\"white\",\"lakecolor\":\"white\",\"landcolor\":\"#E5ECF6\",\"showlakes\":true,\"showland\":true,\"subunitcolor\":\"white\"},\"hoverlabel\":{\"align\":\"left\"},\"hovermode\":\"closest\",\"mapbox\":{\"style\":\"light\"},\"paper_bgcolor\":\"white\",\"plot_bgcolor\":\"#E5ECF6\",\"polar\":{\"angularaxis\":{\"gridcolor\":\"white\",\"linecolor\":\"white\",\"ticks\":\"\"},\"bgcolor\":\"#E5ECF6\",\"radialaxis\":{\"gridcolor\":\"white\",\"linecolor\":\"white\",\"ticks\":\"\"}},\"scene\":{\"xaxis\":{\"backgroundcolor\":\"#E5ECF6\",\"gridcolor\":\"white\",\"gridwidth\":2,\"linecolor\":\"white\",\"showbackground\":true,\"ticks\":\"\",\"zerolinecolor\":\"white\"},\"yaxis\":{\"backgroundcolor\":\"#E5ECF6\",\"gridcolor\":\"white\",\"gridwidth\":2,\"linecolor\":\"white\",\"showbackground\":true,\"ticks\":\"\",\"zerolinecolor\":\"white\"},\"zaxis\":{\"backgroundcolor\":\"#E5ECF6\",\"gridcolor\":\"white\",\"gridwidth\":2,\"linecolor\":\"white\",\"showbackground\":true,\"ticks\":\"\",\"zerolinecolor\":\"white\"}},\"shapedefaults\":{\"line\":{\"color\":\"#2a3f5f\"}},\"ternary\":{\"aaxis\":{\"gridcolor\":\"white\",\"linecolor\":\"white\",\"ticks\":\"\"},\"baxis\":{\"gridcolor\":\"white\",\"linecolor\":\"white\",\"ticks\":\"\"},\"bgcolor\":\"#E5ECF6\",\"caxis\":{\"gridcolor\":\"white\",\"linecolor\":\"white\",\"ticks\":\"\"}},\"title\":{\"x\":0.05},\"xaxis\":{\"automargin\":true,\"gridcolor\":\"white\",\"linecolor\":\"white\",\"ticks\":\"\",\"title\":{\"standoff\":15},\"zerolinecolor\":\"white\",\"zerolinewidth\":2},\"yaxis\":{\"automargin\":true,\"gridcolor\":\"white\",\"linecolor\":\"white\",\"ticks\":\"\",\"title\":{\"standoff\":15},\"zerolinecolor\":\"white\",\"zerolinewidth\":2}}},\"title\":{\"text\":\"PCA Analysis\",\"x\":0.5},\"width\":1000,\"xaxis\":{\"title\":{\"text\":\"Number of components\"}},\"yaxis\":{\"title\":{\"text\":\"Explained Variance %\"}}},                        {\"responsive\": true}                    ).then(function(){\n",
       "                            \n",
       "var gd = document.getElementById('1330d56c-904e-4a43-bf16-530d9899f848');\n",
       "var x = new MutationObserver(function (mutations, observer) {{\n",
       "        var display = window.getComputedStyle(gd).display;\n",
       "        if (!display || display === 'none') {{\n",
       "            console.log([gd, 'removed!']);\n",
       "            Plotly.purge(gd);\n",
       "            observer.disconnect();\n",
       "        }}\n",
       "}});\n",
       "\n",
       "// Listen for the removal of the full notebook cells\n",
       "var notebookContainer = gd.closest('#notebook-container');\n",
       "if (notebookContainer) {{\n",
       "    x.observe(notebookContainer, {childList: true});\n",
       "}}\n",
       "\n",
       "// Listen for the clearing of the current output cell\n",
       "var outputEl = gd.closest('.output');\n",
       "if (outputEl) {{\n",
       "    x.observe(outputEl, {childList: true});\n",
       "}}\n",
       "\n",
       "                        })                };                });            </script>        </div>"
      ]
     },
     "metadata": {},
     "output_type": "display_data"
    }
   ],
   "source": [
    "from sklearn.decomposition import PCA\n",
    "import plotly.graph_objs as go\n",
    "# Perform PCA on X (standardized features)\n",
    "pca = PCA(n_components=0.90, random_state=0).fit(X_train)\n",
    "\n",
    "# Calculate the explained variance\n",
    "var = np.cumsum(np.round(a=pca.explained_variance_ratio_, decimals=3) * 100)\n",
    "\n",
    "# Initiate an empty figure\n",
    "fig = go.Figure()\n",
    "\n",
    "# Add a trace of bar to the figure\n",
    "fig.add_trace(trace=go.Scatter(x=list(range(1000)),\n",
    "                               y= var,\n",
    "                               name=\"'Cumulative Explained Variance'\",\n",
    "                               mode='lines+markers'))\n",
    "\n",
    "# Update the layout with some cosmetics\n",
    "fig.update_layout(height=500, \n",
    "                  width=1000, \n",
    "                  title_text='PCA Analysis', \n",
    "                  title_x=0.5,\n",
    "                  xaxis_title='Number of components', \n",
    "                  yaxis_title='Explained Variance %')\n",
    "\n",
    "# Display the figure\n",
    "fig.show()"
   ]
  },
  {
   "cell_type": "code",
   "execution_count": 110,
   "metadata": {},
   "outputs": [
    {
     "name": "stdout",
     "output_type": "stream",
     "text": [
      "(6095, 12) (1524, 12)\n"
     ]
    }
   ],
   "source": [
    "pca = PCA(n_components=12,random_state=42)\n",
    "pca_train=pca.fit_transform(X_train)\n",
    "pca_test=pca.transform(X_test)\n",
    "print(pca_train.shape,pca_test.shape)"
   ]
  },
  {
   "cell_type": "code",
   "execution_count": 112,
   "metadata": {},
   "outputs": [
    {
     "data": {
      "text/plain": [
       "\"RF = RandomForestClassifier(n_estimators=141,class_weight='balanced')\\nRF.fit(pca_train,y_train)\\nR_Train = RF.predict(pca_train)\\nR_Test = RF.predict(pca_test)\\nprint(f1_score(y_train,R_Train))\\nprint(f1_score(y_test,R_Test))\\nRF_CVal = cross_val_score(estimator=RF,cv=10,X=pca_train,y=y_train,scoring='f1')\\nprint(RF_CVal)\\nprint(np.mean(RF_CVal))\""
      ]
     },
     "execution_count": 112,
     "metadata": {},
     "output_type": "execute_result"
    }
   ],
   "source": [
    "'''RF = RandomForestClassifier(n_estimators=141,class_weight='balanced')\n",
    "RF.fit(pca_train,y_train)\n",
    "R_Train = RF.predict(pca_train)\n",
    "R_Test = RF.predict(pca_test)\n",
    "print(f1_score(y_train,R_Train))\n",
    "print(f1_score(y_test,R_Test))\n",
    "RF_CVal = cross_val_score(estimator=RF,cv=10,X=pca_train,y=y_train,scoring='f1')\n",
    "print(RF_CVal)\n",
    "print(np.mean(RF_CVal))'''\n"
   ]
  },
  {
   "cell_type": "code",
   "execution_count": 116,
   "metadata": {},
   "outputs": [],
   "source": [
    "# Predicting test values using ADA Booster Classifier\n",
    "\n",
    "test_data1 = test_data.copy()"
   ]
  },
  {
   "cell_type": "code",
   "execution_count": 121,
   "metadata": {},
   "outputs": [
    {
     "data": {
      "text/plain": [
       "(2540, 122)"
      ]
     },
     "execution_count": 121,
     "metadata": {},
     "output_type": "execute_result"
    }
   ],
   "source": [
    "X1=test_data.drop(\"ID\",axis=1)\n",
    "X.shape"
   ]
  },
  {
   "cell_type": "code",
   "execution_count": 125,
   "metadata": {},
   "outputs": [
    {
     "data": {
      "text/plain": [
       "True"
      ]
     },
     "execution_count": 125,
     "metadata": {},
     "output_type": "execute_result"
    }
   ],
   "source": [
    "X1.isnull().sum().any()"
   ]
  },
  {
   "cell_type": "code",
   "execution_count": 126,
   "metadata": {},
   "outputs": [],
   "source": [
    "Missingcolumns1 = X1[X1.columns[X1.isnull().sum()>0]].columns"
   ]
  },
  {
   "cell_type": "code",
   "execution_count": 127,
   "metadata": {},
   "outputs": [],
   "source": [
    "for cols in Missingcolumns1:\n",
    "    X1[cols].fillna(X1[cols].median(),inplace=True)"
   ]
  },
  {
   "cell_type": "code",
   "execution_count": 128,
   "metadata": {},
   "outputs": [
    {
     "data": {
      "text/plain": [
       "False"
      ]
     },
     "execution_count": 128,
     "metadata": {},
     "output_type": "execute_result"
    }
   ],
   "source": [
    "X1.isnull().sum().any()"
   ]
  },
  {
   "cell_type": "code",
   "execution_count": 129,
   "metadata": {},
   "outputs": [],
   "source": [
    "Pred_Outuput = AD.predict(X1)"
   ]
  },
  {
   "cell_type": "code",
   "execution_count": 132,
   "metadata": {},
   "outputs": [
    {
     "data": {
      "text/plain": [
       "(2540,)"
      ]
     },
     "execution_count": 132,
     "metadata": {},
     "output_type": "execute_result"
    }
   ],
   "source": [
    "Pred_Outuput.shape"
   ]
  },
  {
   "cell_type": "code",
   "execution_count": 137,
   "metadata": {},
   "outputs": [],
   "source": [
    "Final = pd.DataFrame(test_data['ID'])"
   ]
  },
  {
   "cell_type": "code",
   "execution_count": 139,
   "metadata": {},
   "outputs": [],
   "source": [
    "Final['OP'] = Pred_Outuput"
   ]
  },
  {
   "cell_type": "code",
   "execution_count": 142,
   "metadata": {},
   "outputs": [],
   "source": [
    "Final.to_csv('submission.csv', index=False,header=False)"
   ]
  },
  {
   "cell_type": "code",
   "execution_count": null,
   "metadata": {},
   "outputs": [],
   "source": []
  }
 ],
 "metadata": {
  "kernelspec": {
   "display_name": "Python 3",
   "language": "python",
   "name": "python3"
  },
  "language_info": {
   "codemirror_mode": {
    "name": "ipython",
    "version": 3
   },
   "file_extension": ".py",
   "mimetype": "text/x-python",
   "name": "python",
   "nbconvert_exporter": "python",
   "pygments_lexer": "ipython3",
   "version": "3.8.5"
  }
 },
 "nbformat": 4,
 "nbformat_minor": 4
}
